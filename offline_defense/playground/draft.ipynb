{
 "cells": [
  {
   "cell_type": "code",
   "execution_count": 1,
   "metadata": {},
   "outputs": [],
   "source": [
    "from art.estimators.speech_recognition import PyTorchDeepSpeech"
   ]
  },
  {
   "cell_type": "code",
   "execution_count": 2,
   "metadata": {},
   "outputs": [
    {
     "name": "stderr",
     "output_type": "stream",
     "text": [
      "/home/rni/.anaconda3/envs/torch/lib/python3.10/site-packages/torchmetrics/utilities/prints.py:36: UserWarning: Torchmetrics v0.9 introduced a new argument class property called `full_state_update` that has\n",
      "                not been set for this class (WordErrorRate). The property determines if `update` by\n",
      "                default needs access to the full metric state. If this is not the case, significant speedups can be\n",
      "                achieved and we recommend setting this to `False`.\n",
      "                We provide an checking function\n",
      "                `from torchmetrics.utilities import check_forward_full_state_property`\n",
      "                that can be used to check if the `full_state_update=True` (old and potential slower behaviour,\n",
      "                default for now) or if `full_state_update=False` can be used safely.\n",
      "                \n",
      "  warnings.warn(*args, **kwargs)\n",
      "/home/rni/.anaconda3/envs/torch/lib/python3.10/site-packages/torchmetrics/utilities/prints.py:36: UserWarning: Torchmetrics v0.9 introduced a new argument class property called `full_state_update` that has\n",
      "                not been set for this class (CharErrorRate). The property determines if `update` by\n",
      "                default needs access to the full metric state. If this is not the case, significant speedups can be\n",
      "                achieved and we recommend setting this to `False`.\n",
      "                We provide an checking function\n",
      "                `from torchmetrics.utilities import check_forward_full_state_property`\n",
      "                that can be used to check if the `full_state_update=True` (old and potential slower behaviour,\n",
      "                default for now) or if `full_state_update=False` can be used safely.\n",
      "                \n",
      "  warnings.warn(*args, **kwargs)\n"
     ]
    }
   ],
   "source": [
    "ds2 = PyTorchDeepSpeech(pretrained_model=\"librispeech\", clip_values=[-1, 1])"
   ]
  },
  {
   "cell_type": "code",
   "execution_count": 3,
   "metadata": {},
   "outputs": [],
   "source": [
    "from art.attacks.evasion import ProjectedGradientDescentPyTorch, ProjectedGradientDescent, ImperceptibleASRPyTorch"
   ]
  },
  {
   "cell_type": "code",
   "execution_count": 9,
   "metadata": {},
   "outputs": [],
   "source": [
    "pgd = ProjectedGradientDescent(ds2, norm='inf', eps=0.01, eps_step=0.002, max_iter=7)"
   ]
  },
  {
   "cell_type": "code",
   "execution_count": 10,
   "metadata": {},
   "outputs": [
    {
     "data": {
      "application/vnd.jupyter.widget-view+json": {
       "model_id": "b7db2a80e4bc45ff89a427e2041acec2",
       "version_major": 2,
       "version_minor": 0
      },
      "text/plain": [
       "PGD - Iterations:   0%|          | 0/7 [00:00<?, ?it/s]"
      ]
     },
     "metadata": {},
     "output_type": "display_data"
    }
   ],
   "source": [
    "from scipy.io import wavfile\n",
    "import numpy as np\n",
    "samplerate, data = wavfile.read('/home/rni/.armory/outputs/2022-11-08T050918.786720/saved_samples/36_benign.wav')\n",
    "adv = pgd.generate(np.array([data]))"
   ]
  },
  {
   "cell_type": "code",
   "execution_count": 20,
   "metadata": {},
   "outputs": [
    {
     "data": {
      "text/plain": [
       "16000"
      ]
     },
     "execution_count": 20,
     "metadata": {},
     "output_type": "execute_result"
    }
   ],
   "source": [
    "samplerate, data = wavfile.read('/home/rni/.armory/outputs/2022-11-08T050918.786720/saved_samples/36_benign.wav')\n",
    "samplerate"
   ]
  },
  {
   "cell_type": "code",
   "execution_count": 11,
   "metadata": {},
   "outputs": [
    {
     "data": {
      "text/plain": [
       "(array([-6.1035156e-05,  6.1035156e-05,  6.1035156e-05, ...,\n",
       "         1.5258789e-04,  1.5258789e-04,  2.1362305e-04], dtype=float32),\n",
       " array([[ 0.00993896,  0.00206104, -0.00193896, ..., -0.00184741,\n",
       "         -0.00984741,  0.00221362]], dtype=float32))"
      ]
     },
     "execution_count": 11,
     "metadata": {},
     "output_type": "execute_result"
    }
   ],
   "source": [
    "data, adv"
   ]
  },
  {
   "cell_type": "code",
   "execution_count": 12,
   "metadata": {},
   "outputs": [
    {
     "data": {
      "text/plain": [
       "array([\"AND ALL HIS BROTHERS AND SISTERS STOOD ROUND AND LISTENED WITH THEIR MOUTH'S OPEN\"],\n",
       "      dtype='<U81')"
      ]
     },
     "execution_count": 12,
     "metadata": {},
     "output_type": "execute_result"
    }
   ],
   "source": [
    "ds2.predict(x = np.array([data]), batch_size= 1)"
   ]
  },
  {
   "cell_type": "code",
   "execution_count": 13,
   "metadata": {},
   "outputs": [
    {
     "data": {
      "text/plain": [
       "array(['AND ROBED AS RELLEGED AND FLIFFT TO UNDERSTOOD ROUND IF I ERITTEN WICKER AND MORAL DRAINWAILT'],\n",
       "      dtype='<U93')"
      ]
     },
     "execution_count": 13,
     "metadata": {},
     "output_type": "execute_result"
    }
   ],
   "source": [
    "ds2.predict(x = adv, batch_size= 1)"
   ]
  },
  {
   "cell_type": "code",
   "execution_count": 15,
   "metadata": {},
   "outputs": [],
   "source": [
    "wavfile.write(\"saved_adv/0.wav\", samplerate, adv.T)"
   ]
  },
  {
   "cell_type": "code",
   "execution_count": 26,
   "metadata": {},
   "outputs": [
    {
     "data": {
      "text/plain": [
       "array(['AND ROBED AS RELLERGED AND FLIFFT TO UNDERSTOOD ROUND IF I ERITTEN WICKER AND MORAL DRAINWAILT'],\n",
       "      dtype='<U94')"
      ]
     },
     "execution_count": 26,
     "metadata": {},
     "output_type": "execute_result"
    }
   ],
   "source": [
    "samplerate, data = wavfile.read('/home/rni/IDL_project/saved_adv/0.wav')\n",
    "ds2.predict(x = np.array([data]), batch_size= 1)"
   ]
  },
  {
   "cell_type": "code",
   "execution_count": 35,
   "metadata": {},
   "outputs": [
    {
     "data": {
      "text/plain": [
       "array(['BRIHTER THAN EARLY DAWNS  MOST BRILLIANT DIE ARE BLOWN CLEAR BANCE OF COLOR THROUGH THE SKY THAT SWIRL AND SWEEP AND MATE TO BREAK AND FOAM LIKE RAINBOW VILLES UPON A BOVLS STONE'],\n",
       "      dtype='<U178')"
      ]
     },
     "execution_count": 35,
     "metadata": {},
     "output_type": "execute_result"
    }
   ],
   "source": [
    "samplerate, data = wavfile.read('/home/rni/.armory/outputs/2022-11-08T051608.443297/reconstructed_low_sampled/0_adversarial_gen.wav')\n",
    "data = data.astype(np.float32)\n",
    "max_int16 = 2**17\n",
    "data = data / max_int16\n",
    "data\n",
    "ds2.predict(x = np.array([data]), batch_size= 1)"
   ]
  },
  {
   "cell_type": "code",
   "execution_count": 29,
   "metadata": {},
   "outputs": [
    {
     "data": {
      "text/plain": [
       "array([-0.00152588, -0.00158691, -0.00079346, ..., -0.0005188 ,\n",
       "       -0.00045776, -0.00015259], dtype=float32)"
      ]
     },
     "execution_count": 29,
     "metadata": {},
     "output_type": "execute_result"
    }
   ],
   "source": []
  },
  {
   "cell_type": "code",
   "execution_count": 32,
   "metadata": {},
   "outputs": [
    {
     "name": "stderr",
     "output_type": "stream",
     "text": [
      "/home/rni/deepspeech.pytorch/deepspeech_pytorch/model.py:310: UserWarning: __floordiv__ is deprecated, and its behavior will change in a future version of pytorch. It currently rounds toward 0 (like the 'trunc' function NOT 'floor'). This results in incorrect rounding for negative values. To keep the current behavior, use torch.div(a, b, rounding_mode='trunc'), or for actual floor division, use torch.div(a, b, rounding_mode='floor').\n",
      "  seq_len = ((seq_len + 2 * m.padding[1] - m.dilation[1] * (m.kernel_size[1] - 1) - 1) // m.stride[1] + 1)\n"
     ]
    },
    {
     "data": {
      "text/plain": [
       "array(['BRIGHTER THAN EARLY DAWNS  MOST BRILLIANT DYE ARE BLOWN CLEAR BANDS OF COLOR THROUGH THE SKY THAT SWIRLN AND SWEEP AND MATE TO BREAK AND FOAM LIKE RAINBOW VELLES UPON A BOVVLE STONE'],\n",
       "      dtype='<U181')"
      ]
     },
     "execution_count": 32,
     "metadata": {},
     "output_type": "execute_result"
    }
   ],
   "source": [
    "samplerate, before_recons_data = wavfile.read('/home/rni/.armory/outputs/2022-11-08T051608.443297/saved_samples/0_adversarial.wav')\n",
    "ds2.predict(x = np.array([before_recons_data]), batch_size= 1)"
   ]
  },
  {
   "cell_type": "code",
   "execution_count": 31,
   "metadata": {},
   "outputs": [
    {
     "data": {
      "text/plain": [
       "array([ 0.0006    ,  0.00056948, -0.00016948, ...,  0.00047793,\n",
       "       -0.00032207,  0.00050845], dtype=float32)"
      ]
     },
     "execution_count": 31,
     "metadata": {},
     "output_type": "execute_result"
    }
   ],
   "source": [
    "before_recons_data"
   ]
  },
  {
   "cell_type": "code",
   "execution_count": 12,
   "metadata": {},
   "outputs": [],
   "source": [
    "from scipy.io import wavfile\n",
    "import numpy as np"
   ]
  },
  {
   "cell_type": "code",
   "execution_count": 24,
   "metadata": {},
   "outputs": [
    {
     "data": {
      "text/plain": [
       "array(['AND ALL TIS ROBBEN LITE CWISCAN STOOD ROUND AND LISTENED WITH HIM LOVES OLTEM'],\n",
       "      dtype='<U77')"
      ]
     },
     "execution_count": 24,
     "metadata": {},
     "output_type": "execute_result"
    }
   ],
   "source": [
    "samplerate, data = wavfile.read('/home/rni/ParallelWaveGAN/output_sample/36_adversarial_16000_gen.wav')\n",
    "data = data.astype(np.float32)\n",
    "max_int16 = 2**15\n",
    "data = data / max_int16\n",
    "hifigan = ds2.predict(x = np.array([data]), batch_size= 1)\n",
    "ds2.predict(x = np.array([data]), batch_size= 1)"
   ]
  },
  {
   "cell_type": "code",
   "execution_count": 15,
   "metadata": {},
   "outputs": [
    {
     "data": {
      "text/plain": [
       "array([-0.00206104, -0.00193896,  0.00206104, ...,  0.01015259,\n",
       "       -0.00184741, -0.00578638], dtype=float32)"
      ]
     },
     "execution_count": 15,
     "metadata": {},
     "output_type": "execute_result"
    }
   ],
   "source": [
    "samplerate, data = wavfile.read('/home/rni/.armory/outputs/2022-11-08T050918.786720/saved_samples/36_adversarial.wav')\n",
    "adv = ds2.predict(x = np.array([data]), batch_size= 1)\n",
    "data"
   ]
  },
  {
   "cell_type": "code",
   "execution_count": 16,
   "metadata": {},
   "outputs": [],
   "source": [
    "samplerate, data = wavfile.read('/home/rni/.armory/outputs/2022-11-08T050918.786720/saved_samples/36_benign.wav')\n",
    "benign = ds2.predict(x = np.array([data]), batch_size= 1)"
   ]
  },
  {
   "cell_type": "code",
   "execution_count": 17,
   "metadata": {},
   "outputs": [
    {
     "data": {
      "text/plain": [
       "0.7142857142857143"
      ]
     },
     "execution_count": 17,
     "metadata": {},
     "output_type": "execute_result"
    }
   ],
   "source": [
    "from jiwer import wer\n",
    "\n",
    "wer(benign[0], adv[0])"
   ]
  },
  {
   "cell_type": "code",
   "execution_count": 18,
   "metadata": {},
   "outputs": [
    {
     "data": {
      "text/plain": [
       "0.5"
      ]
     },
     "execution_count": 18,
     "metadata": {},
     "output_type": "execute_result"
    }
   ],
   "source": [
    "wer(benign[0], hifigan[0])"
   ]
  },
  {
   "cell_type": "code",
   "execution_count": 19,
   "metadata": {},
   "outputs": [
    {
     "data": {
      "text/plain": [
       "(array(['AND ALL TIS ROBBEN LITE CWISCAN STOOD ROUND AND LISTENED WITH HIM LOVES OLTEM'],\n",
       "       dtype='<U77'),\n",
       " array(['AND ALL TI ROBER LEOKE WITHCIN STOOD ROUND ANDELITTENED WITH HIM LOVES ON THEM'],\n",
       "       dtype='<U78'),\n",
       " array([\"AND ALL HIS BROTHERS AND SISTERS STOOD ROUND AND LISTENED WITH THEIR MOUTH'S OPEN\"],\n",
       "       dtype='<U81'))"
      ]
     },
     "execution_count": 19,
     "metadata": {},
     "output_type": "execute_result"
    }
   ],
   "source": [
    "hifigan, adv, benign"
   ]
  },
  {
   "cell_type": "code",
   "execution_count": 19,
   "metadata": {},
   "outputs": [],
   "source": [
    "import pickle\n",
    "with open ('gt.pkl', 'rb') as fp:\n",
    "    strings = pickle.load(fp)"
   ]
  },
  {
   "cell_type": "code",
   "execution_count": null,
   "metadata": {},
   "outputs": [],
   "source": [
    "strings"
   ]
  },
  {
   "cell_type": "code",
   "execution_count": 20,
   "metadata": {},
   "outputs": [
    {
     "data": {
      "text/plain": [
       "(0.7142857142857143, 0.5, 0.07142857142857142)"
      ]
     },
     "execution_count": 20,
     "metadata": {},
     "output_type": "execute_result"
    }
   ],
   "source": [
    "from jiwer import wer\n",
    "\n",
    "wer(strings[36].decode(), adv[0]), wer(strings[36].decode(), hifigan[0]), wer(strings[36].decode(), benign[0])"
   ]
  },
  {
   "cell_type": "code",
   "execution_count": null,
   "metadata": {},
   "outputs": [],
   "source": [
    "import tensorflow as tf\n",
    "import tensorflow_datasets as tfds\n",
    "\n",
    "ds = tfds.load('librispeech', split='test_clean', data_dir='/data/armory_datasets/', download=False)"
   ]
  },
  {
   "cell_type": "code",
   "execution_count": 2,
   "metadata": {},
   "outputs": [
    {
     "data": {
      "text/plain": [
       "<PrefetchDataset element_spec={'chapter_id': TensorSpec(shape=(), dtype=tf.int64, name=None), 'id': TensorSpec(shape=(), dtype=tf.string, name=None), 'speaker_id': TensorSpec(shape=(), dtype=tf.int64, name=None), 'speech': TensorSpec(shape=(None,), dtype=tf.int16, name=None), 'text': TensorSpec(shape=(), dtype=tf.string, name=None)}>"
      ]
     },
     "execution_count": 2,
     "metadata": {},
     "output_type": "execute_result"
    }
   ],
   "source": [
    "ds"
   ]
  },
  {
   "cell_type": "code",
   "execution_count": 3,
   "metadata": {},
   "outputs": [],
   "source": [
    "ds = tfds.as_numpy(ds)"
   ]
  },
  {
   "cell_type": "code",
   "execution_count": 4,
   "metadata": {},
   "outputs": [],
   "source": [
    "index = 0\n",
    "strings = []\n",
    "for data in ds:\n",
    "    if index == 100:\n",
    "        break\n",
    "    strings.append(data['text'])\n",
    "    index += 1"
   ]
  },
  {
   "cell_type": "code",
   "execution_count": 19,
   "metadata": {},
   "outputs": [
    {
     "data": {
      "text/plain": [
       "[b\"BRIGHTER THAN EARLY DAWN'S MOST BRILLIANT DYE ARE BLOWN CLEAR BANDS OF COLOR THROUGH THE SKY THAT SWIRL AND SWEEP AND MEET TO BREAK AND FOAM LIKE RAINBOW VEILS UPON A BUBBLE'S DOME\",\n",
       " b'I AM NOT GOOD ENOUGH FOR YOU AND YOU MUST BE KEPT FROM THE CONTAMINATION OF TOO INTIMATE SOCIETY',\n",
       " b\"THERE'S A HEAVY STORM COMING ON I CRIED POINTING TOWARDS THE HORIZON\",\n",
       " b'WHY SHOULD THE MISTRESS OF THE VALES OF HAR UTTER A SIGH',\n",
       " b'THE AXE STRUCK DEEP INTO THE VERY PITH THE TREE FELL TO THE EARTH WITH A SIGH HE FELT A PANG IT WAS LIKE A SWOON HE COULD NOT THINK OF HAPPINESS FOR HE WAS SORROWFUL AT BEING SEPARATED FROM HIS HOME FROM THE PLACE WHERE HE HAD SPRUNG UP',\n",
       " b'SHE ROSE QUICKLY TO HER FEET WITH AN IMPETUOUS GESTURE THAT MADE HER VISITOR CATCH HER BREATH',\n",
       " b'THIS WAS WHAT DID THE MISCHIEF SO FAR AS THE RUNNING AWAY WAS CONCERNED',\n",
       " b'UP IN THE SICK ROOM ZORA LAY ON THE LITTLE WHITE BED',\n",
       " b'VERSE TWO',\n",
       " b'P S PRAY SIR EXCUSE ME FOR WRITING TO YOU A SECOND TIME I COULD NOT HELP WRITING PARTLY TO TELL YOU HOW THANKFUL I AM FOR YOUR KINDNESS AND PARTLY TO LET YOU KNOW THAT YOUR ADVICE SHALL NOT BE WASTED HOWEVER SORROWFULLY AND RELUCTANTLY IT MAY BE AT FIRST FOLLOWED C B',\n",
       " b\"THEY LOOK SOMETHING ALIKE YOU KNOW SUGGESTED THE CAPTAIN OF THE GUARDS LOOKING FROM ONE TO THE OTHER DOUBTFULLY AND THEY'RE NEARLY THE SAME SIZE IF YOU STAND THE GOAT ON HIS HIND LEGS THEY'VE BOTH GOT THE SAME STYLE OF WHISKERS AND THEY'RE BOTH OF EM OBSTINATE AND DANGEROUS SO THEY OUGHT TO MAKE A GOOD PATCH SPLENDID\",\n",
       " b'PUT THESE PLAYTHINGS ALL AWAY QUICK AND CAREFULLY AND WE WILL NOT LET THEM KNOW ANY THING ABOUT YOUR LEAVING THEM OUT',\n",
       " b\"THERE BEFELL AN ANXIOUS INTERVIEW MISTRESS FITZOOTH ARGUING FOR AND AGAINST THE SQUIRE'S PROJECT IN A BREATH\",\n",
       " b'NOW WHAT HAVE YOU TO SAY CYNTHIA SPRAGUE',\n",
       " b'I WAS ABSENT RATHER MORE THAN AN HOUR',\n",
       " b'OH IT IS BETTER TO LIVE ON THE SEA AND LET OTHER MEN RAISE YOUR CROPS AND COOK YOUR MEALS',\n",
       " b'THE VARIABILITY OF MULTIPLE PARTS',\n",
       " b\"WELL YOU KNOW RADIE WOMEN LIKE WICKED FELLOWS IT IS CONTRAST I SUPPOSE BUT THEY DO AND I'M SURE FROM WHAT BRACTON HAS SAID TO ME I KNOW HIM INTIMATELY THAT DORCAS LIKES HIM AND I CAN'T CONCEIVE WHY THEY ARE NOT MARRIED\",\n",
       " b\"MISS MILNER'S HEALTH IS NOT GOOD\",\n",
       " b'THAT INVITATION DECIDED HER',\n",
       " b'EITHER HE CALLS MINISTERS THROUGH THE AGENCY OF MEN OR HE CALLS THEM DIRECTLY AS HE CALLED THE PROPHETS AND APOSTLES',\n",
       " b'IN THE MODERN WELL CONSTRUCTED PLAY HE SIMPLY RINGS UP AN IMAGINARY CONFEDERATE AND TELLS HIM WHAT HE IS GOING TO DO COULD ANYTHING BE MORE NATURAL',\n",
       " b'IT IS SOLD EVERYWHERE BUT FOR THE LAST THREE WEEKS NOBODY WILL USE ANY SNUFF BUT THAT SOLD AT THE CIVET CAT',\n",
       " b'IN THE DEBATE BETWEEN THE SENIOR SOCIETIES HER DEFENCE OF THE FIFTEENTH AMENDMENT HAD BEEN NOT ONLY A NOTABLE BIT OF REASONING BUT DELIVERED WITH REAL ENTHUSIASM',\n",
       " b'YES BUT THE MERIDIAN OF THE PALAIS ROYAL IS THE MOST EXACT',\n",
       " b'CONSUMPTION BECOMES A LARGER ELEMENT IN THE STANDARD OF LIVING IN THE CITY THAN IN THE COUNTRY',\n",
       " b'BUT IT IS ON OTHER GROUNDS WORTH NOTING THAT THE TERM WASTE IN THE LANGUAGE OF EVERYDAY LIFE IMPLIES DEPRECATION OF WHAT IS CHARACTERIZED AS WASTEFUL',\n",
       " b\"IT'S ALMOST BEYOND CONJECTURE\",\n",
       " b'THE ENGLISH FORWARDED TO THE FRENCH BASKETS OF FLOWERS OF WHICH THEY HAD MADE A PLENTIFUL PROVISION TO GREET THE ARRIVAL OF THE YOUNG PRINCESS THE FRENCH IN RETURN INVITED THE ENGLISH TO A SUPPER WHICH WAS TO BE GIVEN THE NEXT DAY',\n",
       " b'BY HIS RESURRECTION CHRIST WON THE VICTORY OVER LAW SIN FLESH WORLD DEVIL DEATH HELL AND EVERY EVIL',\n",
       " b\"THE KING'S EARS WERE NOW OPEN TO MONTROSE'S COUNSELS WHO PROPOSED NONE BUT THE BOLDEST AND MOST DARING AGREEABLY TO THE DESPERATE STATE OF THE ROYAL CAUSE IN SCOTLAND\",\n",
       " b'DID NOT THE DANCING AMUSE YOU NO',\n",
       " b'THE PRINCESS SAT DOWN UNDER A BLUE CANOPY WITH BOUQUETS OF ROSES AND SHE LET ANDERS SIT IN A GOLDEN CHAIR BY HER SIDE',\n",
       " b'AN ARTICLE MAY BE USEFUL AND WASTEFUL BOTH AND ITS UTILITY TO THE CONSUMER MAY BE MADE UP OF USE AND WASTE IN THE MOST VARYING PROPORTIONS',\n",
       " b\"HER EYES WANDERED TO THE MAID'S HANDS\",\n",
       " b'MAINHALL VOUCHED FOR HER CONSTANCY WITH A LOFTINESS THAT MADE ALEXANDER SMILE EVEN WHILE A KIND OF RAPID EXCITEMENT WAS TINGLING THROUGH HIM',\n",
       " b'AND ALL HIS BROTHERS AND SISTERS STOOD ROUND AND LISTENED WITH THEIR MOUTHS OPEN',\n",
       " b'MOTHER CRIED SHE I SEE YOU HERE LOOK LOOK',\n",
       " b'MAY WE SEE GATES AT ONCE ASKED KENNETH',\n",
       " b\"IT'S TREMENDOUSLY WELL PUT ON TOO\",\n",
       " b'THE HEAD AND CHIEF OF THE RIOT THE NOTTINGHAM APPRENTICE WITH CLENCHED FISTS THREATENED MONTFICHET',\n",
       " b'IN AUTUMN THE WOOD CUTTERS ALWAYS CAME AND FELLED SOME OF THE LARGEST TREES',\n",
       " b'THE SCOUT WHO HAD LEFT DAVID AT THE DOOR TO ASCERTAIN THEY WERE NOT OBSERVED THOUGHT IT PRUDENT TO PRESERVE HIS DISGUISE UNTIL ASSURED OF THEIR PRIVACY',\n",
       " b\"IN FACT HE HAD JUST FINISHED IT THE LAST OF THE TROUT'S TAIL HAD JUST VANISHED WITH A SPASM DOWN HIS STRAINED GULLET WHEN THE BAFFLED HAWK CAUGHT SIGHT OF HIM AND SWOOPED\",\n",
       " b'ALEXANDER UNCLENCHED THE TWO HANDS AT HIS SIDES',\n",
       " b'THERE WAS SOMETHING OF SWEETNESS AND FONDNESS IN HER TONES AND MANNER WHICH WAS NEW TO RACHEL AND COMFORTING AND SHE RETURNED THE GREETING AS KINDLY AND FELT MORE LIKE HER FORMER SELF',\n",
       " b'PAUL ANSWERS THE MAN WHO IS NAMED JESUS CHRIST AND THE SON OF GOD GAVE HIMSELF FOR OUR SINS',\n",
       " b'FOR A LONG TIME HE HAD WISHED TO EXPLORE THE BEAUTIFUL LAND OF OZ IN WHICH THEY LIVED',\n",
       " b'IF A ROCK OR A RIVULET OR A BIT OF EARTH HARDER THAN COMMON SEVERED THE LINKS OF THE CLEW THEY FOLLOWED THE TRUE EYE OF THE SCOUT RECOVERED THEM AT A DISTANCE AND SELDOM RENDERED THE DELAY OF A SINGLE MOMENT NECESSARY',\n",
       " b'COME FORTH WORM AND THE SILENT VALLEY TO THY PENSIVE QUEEN',\n",
       " b'HEREDITY THE CAUSE OF ALL OUR FAULTS',\n",
       " b'THE FAIRVIEW BAND WAS ENGAGED TO DISCOURSE AS MUCH HARMONY AS IT COULD PRODUCE AND THE RESOURCES OF THE GREAT HOUSE WERE TAXED TO ENTERTAIN THE GUESTS',\n",
       " b'PEARL WAS A BORN OUTCAST OF THE INFANTILE WORLD',\n",
       " b'HOSTESS REPLACES LUMP AND INCLINES EMPTY TEAPOT OVER TRAY FOR A MOMENT THEN HANDS HIM A CUP PAINTED BROWN INSIDE THUS DECEIVING THE GENTLEMAN WITH THE TELESCOPE IN THE UPPER CIRCLE',\n",
       " b\"OH I AM SPEAKING SERIOUSLY REPLIED MONTALAIS AND MY OPINION IN THIS CASE IS QUITE AS GOOD AS THE KING'S I SUPPOSE IS IT NOT LOUISE\",\n",
       " b\"WE WON'T TALK ABOUT HER ANY MORE IF YOU'D RATHER NOT WE INDEED\",\n",
       " b'FINE GLORIOUS',\n",
       " b'THE MOHICAN STARTED ON HIS FEET AND SHOOK HIS SHAGGY COVERING AS THOUGH THE ANIMAL HE COUNTERFEITED WAS ABOUT TO MAKE SOME DESPERATE EFFORT',\n",
       " b'THE PROOF WAS IN THREE LONG SLIPS I HAD LEFT THEM ALL TOGETHER',\n",
       " b'THE FREE STATE MEN HAD ONLY THEIR CONVICTIONS THEIR INTELLIGENCE THEIR COURAGE AND THE MORAL SUPPORT OF THE NORTH THE CONSPIRACY HAD ITS SECRET COMBINATION THE TERRITORIAL OFFICIALS THE LEGISLATURE THE BOGUS LAWS THE COURTS THE MILITIA OFFICERS THE PRESIDENT AND THE ARMY',\n",
       " b'THERE STAND SO I SAID AND GLARE AND HISS AT MY FOES',\n",
       " b'TIME ENOUGH HAD HE TOO FOR HIS REFLECTIONS FOR DAYS AND NIGHTS PASSED ON AND NOBODY CAME UP AND WHEN AT LAST SOMEBODY DID COME IT WAS ONLY TO PUT SOME GREAT TRUNKS IN A CORNER OUT OF THE WAY',\n",
       " b\"THE TWO YOUNG MEN WHO WERE BY THIS TIME FULL OF THE ADVENTURE WENT DOWN TO THE WALL STREET OFFICE OF HENRY'S UNCLE AND HAD A TALK WITH THAT WILY OPERATOR\",\n",
       " b'BUT PHILIP IS HONEST AND HE HAS TALENT ENOUGH IF HE WILL STOP SCRIBBLING TO MAKE HIS WAY',\n",
       " b'IT WILL BE NO DISAPPOINTMENT TO ME',\n",
       " b'JACK HAD BEEN STANDING IN THE FAR CORNER OF THE ROOM TALKING TO EVA AND WAS NOW REDUCED TO SILENCE BY HIS PRAISES',\n",
       " b'AT ONCE THE GOAT GAVE A LEAP ESCAPED FROM THE SOLDIERS AND WITH BOWED HEAD RUSHED UPON THE BOOLOOROO',\n",
       " b'AND THEN THEY BECAME VEXED AND WOULD HAVE SNATCHED YOUR PURSE FROM US',\n",
       " b'THERE IS NO CLASS AND NO COUNTRY THAT HAS YIELDED SO ABJECTLY BEFORE THE PRESSURE OF PHYSICAL WANT AS TO DENY THEMSELVES ALL GRATIFICATION OF THIS HIGHER OR SPIRITUAL NEED',\n",
       " b\"OH SHE'S ALWAYS AT THE PIANO SAID VAN SHE MUST BE THERE NOW SOMEWHERE AND THEN SOMEBODY LAUGHED\",\n",
       " b'HE COULD HARDLY STAND STILL SO GREAT WAS HIS MENTAL AGITATION AND HE RAN TOWARDS HOLMES WITH TWO EAGER HANDS OUTSTRETCHED THANK HEAVEN THAT YOU HAVE COME',\n",
       " b'ON HUGE SILVER PLATTERS WERE PYRAMIDS OF TARTS AND CAKES AND RED WINE SPARKLED IN GLITTERING DECANTERS',\n",
       " b'INDEPENDENT OF HER FORTUNE SHE HAS BEAUTY TO CAPTIVATE THE HEART OF ANY MAN AND WITH ALL HER FOLLIES SHE HAS A FRANKNESS IN HER MANNER AN UNAFFECTED WISDOM IN HER THOUGHTS A VIVACITY IN HER CONVERSATION AND WITHAL A SOFTNESS IN HER DEMEANOUR THAT MIGHT ALONE ENGAGE THE AFFECTIONS OF A MAN OF THE NICEST SENTIMENTS AND THE STRONGEST UNDERSTANDING',\n",
       " b'FACTS FORM ONE OF THESE AND IDEAS THE OTHER',\n",
       " b\"A ROUTE SLIGHTLY LESS DIRECT THAT'S ALL\",\n",
       " b'OLIVE HAS ANOTHER LOVELY GIFT FOR THE YELLOW HOUSE SAID MOTHER CAREY RISING AND TO CARRY OUT THE NEXT PART OF THE PROGRAMME WE SHALL HAVE TO GO IN PROCESSION UPSTAIRS TO MY BEDROOM',\n",
       " b'CAN THESE THINGS BE RETURNED DAVID BREATHING MORE FREELY AS THE TRUTH BEGAN TO DAWN UPON HIM',\n",
       " b'SOCRATES BEGINS THE TIMAEUS WITH A SUMMARY OF THE REPUBLIC',\n",
       " b'THE DOCTOR WHO ATTENDED THE INJURED CREATURE IN THIS CASE WAS SIMPLY TOLD THAT SHE SLIPPED AND FELL DOWN STAIRS AS SHE WAS COMING DOWN',\n",
       " b'ENTER HAMLET WITH HIS FAVOURITE BOAR HOUND',\n",
       " b\"SUBSTANTIALLY THIS WAS JACOB'S UNVARNISHED DESCRIPTION OF HIS MASTER AND MISTRESS\",\n",
       " b'OH WELL SIR WHAT ABOUT HIM',\n",
       " b'THAT WILL BE A QUEER THING TO BE SURE',\n",
       " b'SHE TAUGHT HER DAUGHTER THEN BY HER OWN AFFECTION FOR IT THAT LOVE FOR A COUNTRY WHERE THEY HAD BOTH BEEN HOSPITABLY RECEIVED AND WHERE A BRILLIANT FUTURE OPENED BEFORE THEM',\n",
       " b'LIKE HIS UNFORTUNATE LITTLE COUSIN THE TEAL HE TOO HAD FELT THE FEAR OF DEATH SMITTEN INTO HIS HEART AND WAS HEADING DESPERATELY FOR THE REFUGE OF SOME DARK OVERHANGING BANK DEEP FRINGED WITH WEEDS WHERE THE DREADFUL EYE OF THE HAWK SHOULD NOT DISCERN HIM',\n",
       " b\"THIS COMPULSION LEADS NEMO INTO UGLY CONTRADICTIONS HE'S A FIGHTER FOR FREEDOM YET ALL WHO BOARD HIS SHIP ARE IMPRISONED THERE FOR GOOD HE WORKS TO SAVE LIVES BOTH HUMAN AND ANIMAL YET HE HIMSELF CREATES A HOLOCAUST HE DETESTS IMPERIALISM YET HE LAYS PERSONAL CLAIM TO THE SOUTH POLE\",\n",
       " b'IN THIS WAY THE FETE OF THE WHOLE COURT WAS A FETE ALSO FOR THE MYSTERIOUS INHABITANTS OF THE FOREST FOR CERTAINLY THE DEER IN THE BRAKE THE PHEASANT ON THE BRANCH THE FOX IN ITS HOLE WERE ALL LISTENING',\n",
       " b\"HIS TONES RANG PLEASANTLY ON WARRENTON'S EARS AND FORTHWITH A GOOD FELLOWSHIP WAS HERALDED BETWEEN THEM\",\n",
       " b'AS SOON AS THESE DISPOSITIONS WERE MADE THE SCOUT TURNED TO DAVID AND GAVE HIM HIS PARTING INSTRUCTIONS',\n",
       " b'MARIE SIGHED',\n",
       " b'DID ANYONE KNOW THAT THESE PROOFS WOULD BE THERE NO ONE SAVE THE PRINTER',\n",
       " b'IT IS ANNOYANCE THEN',\n",
       " b'FOR THE GREAT BARN DOORS ARE THROWN WIDE OPEN AND MEN ARE BUSY THERE MENDING THE HARNESS UNDER THE SUPERINTENDENCE OF MISTER GOBY THE WHITTAW OTHERWISE SADDLER WHO ENTERTAINS THEM WITH THE LATEST TREDDLESTON GOSSIP',\n",
       " b'TAKE HIM OUT THORKEL AND LET HIM TASTE YOUR SWORD',\n",
       " b'NOTHING IS MORE LUGUBRIOUS THAN THE CONTEMPLATION THUS IN ITS NUDITY IN THE BROAD LIGHT OF THOUGHT OF THE HORRIBLE SWARMING OF SLANG',\n",
       " b'AND THEN THERE WAS BROAD STREET',\n",
       " b'BUT THE AFFAIR WAS MAGNIFIED AS A CROWNING PROOF THAT THE FREE STATE MEN WERE INSURRECTIONISTS AND OUTLAWS',\n",
       " b\"THERE JAP YOU'VE CAUGHT IT LAUGHED PERCY WHILE THE OTHERS SCREAMED AT THE SIGHT OF JASPER'S FACE\",\n",
       " b'IF YOU SHOULD NOT BE A GOOD GIRL BUT SHOULD SHOW SIGNS OF MAKING US ANY TROUBLE I SHALL HAVE TO SEND YOU OUT SOMEWHERE TO THE BACK PART OF THE HOUSE UNTIL WE ARE GONE',\n",
       " b'I WILL ENDEAVOUR IN MY STATEMENT TO AVOID SUCH TERMS AS WOULD SERVE TO LIMIT THE EVENTS TO ANY PARTICULAR PLACE OR GIVE A CLUE AS TO THE PEOPLE CONCERNED']"
      ]
     },
     "execution_count": 19,
     "metadata": {},
     "output_type": "execute_result"
    }
   ],
   "source": [
    "strings"
   ]
  },
  {
   "cell_type": "code",
   "execution_count": 6,
   "metadata": {},
   "outputs": [],
   "source": [
    "with open(\"file.txt\", \"w\") as output:\n",
    "    output.write(str(strings))"
   ]
  },
  {
   "cell_type": "code",
   "execution_count": 7,
   "metadata": {},
   "outputs": [],
   "source": [
    "import pickle\n",
    "with open('gt.pkl', 'wb') as fp:\n",
    "    pickle.dump(strings, fp)"
   ]
  },
  {
   "cell_type": "code",
   "execution_count": 3,
   "metadata": {},
   "outputs": [],
   "source": [
    "import pickle\n",
    "with open ('gt.pkl', 'rb') as fp:\n",
    "    strings = pickle.load(fp)"
   ]
  },
  {
   "cell_type": "code",
   "execution_count": null,
   "metadata": {},
   "outputs": [],
   "source": [
    "RECONSTRUCTED_LOW_SR = \"/home/rni/.armory/outputs/2022-11-08T045935.143694/saved_samples\"\n",
    "\n",
    "import os, re\n",
    "files = [f for f in os.listdir(RECONSTRUCTED_LOW_SR) if f.endswith(\".wav\")]\n",
    "\n",
    "files = sorted(files, key=lambda f: int(re.sub('\\D', '', f)))\n",
    "\n",
    "adv = [os.path.join(RECONSTRUCTED_LOW_SR, f) for f in files if f.endswith(\"adversarial.wav\")]\n",
    "adv"
   ]
  },
  {
   "cell_type": "code",
   "execution_count": null,
   "metadata": {},
   "outputs": [],
   "source": [
    "RECONSTRUCTED_LOW_SR = \"/home/rni/.armory/outputs/2022-11-08T045935.143694/reconstructed_low_sampled\"\n",
    "\n",
    "import os, re\n",
    "files = [f for f in os.listdir(RECONSTRUCTED_LOW_SR) if f.endswith(\".wav\")]\n",
    "\n",
    "files = sorted(files, key=lambda f: int(re.sub('\\D', '', f)))\n",
    "\n",
    "adv = [os.path.join(RECONSTRUCTED_LOW_SR, f) for f in files if f.endswith(\"adversarial_gen.wav\")]\n",
    "adv"
   ]
  },
  {
   "cell_type": "code",
   "execution_count": 84,
   "metadata": {},
   "outputs": [],
   "source": [
    "from jiwer import wer\n",
    "wers = []\n",
    "for id, file in enumerate(adv):\n",
    "    samplerate, data = wavfile.read(file)\n",
    "    data = data.astype(np.float32)\n",
    "    max_int16 = 2**27\n",
    "    data = data / max_int16\n",
    "    recons_res = ds2.predict(x = np.array([data]), batch_size= 1)\n",
    "    gt_len = len(strings[id].decode().split())\n",
    "    wers.append((wer(strings[id].decode(), recons_res[0]), gt_len))"
   ]
  },
  {
   "cell_type": "code",
   "execution_count": 85,
   "metadata": {},
   "outputs": [
    {
     "data": {
      "text/plain": [
       "1.2311067771818625"
      ]
     },
     "execution_count": 85,
     "metadata": {},
     "output_type": "execute_result"
    }
   ],
   "source": [
    "np.sum([wer * weight for wer, weight in wers]) / np.sum([weight for _, weight in wers])"
   ]
  },
  {
   "cell_type": "code",
   "execution_count": 80,
   "metadata": {},
   "outputs": [],
   "source": [
    "from jiwer import wer\n",
    "wers = []\n",
    "for id, file in enumerate(adv):\n",
    "    samplerate, data = wavfile.read(file)\n",
    "    recons_res = ds2.predict(x = np.array([data]), batch_size= 1)\n",
    "    gt_len = len(strings[id].decode().split())\n",
    "    wers.append((wer(strings[id].decode(), recons_res[0]), gt_len))"
   ]
  },
  {
   "cell_type": "code",
   "execution_count": 81,
   "metadata": {},
   "outputs": [
    {
     "data": {
      "text/plain": [
       "1.6021452949780595"
      ]
     },
     "execution_count": 81,
     "metadata": {},
     "output_type": "execute_result"
    }
   ],
   "source": [
    "np.sum([wer * weight for wer, weight in wers]) / np.sum([weight for _, weight in wers])"
   ]
  },
  {
   "cell_type": "code",
   "execution_count": 24,
   "metadata": {},
   "outputs": [
    {
     "data": {
      "text/plain": [
       "0.20002364828095132"
      ]
     },
     "execution_count": 24,
     "metadata": {},
     "output_type": "execute_result"
    }
   ],
   "source": [
    "import numpy as np\n",
    "np.average(wers)"
   ]
  },
  {
   "cell_type": "code",
   "execution_count": 29,
   "metadata": {},
   "outputs": [
    {
     "data": {
      "text/plain": [
       "0.17698683568990736"
      ]
     },
     "execution_count": 29,
     "metadata": {},
     "output_type": "execute_result"
    }
   ],
   "source": [
    "# eps 0.001\n",
    "np.sum([wer * weight for wer, weight in wers]) / np.sum([weight for _, weight in wers])"
   ]
  },
  {
   "cell_type": "code",
   "execution_count": 54,
   "metadata": {},
   "outputs": [
    {
     "data": {
      "text/plain": [
       "0.15504631886884446"
      ]
     },
     "execution_count": 54,
     "metadata": {},
     "output_type": "execute_result"
    }
   ],
   "source": [
    "# eps 0.001 (no defense)\n",
    "np.sum([wer * weight for wer, weight in wers]) / np.sum([weight for _, weight in wers])"
   ]
  },
  {
   "cell_type": "code",
   "execution_count": 32,
   "metadata": {},
   "outputs": [
    {
     "data": {
      "text/plain": [
       "0.6528522671867382"
      ]
     },
     "execution_count": 32,
     "metadata": {},
     "output_type": "execute_result"
    }
   ],
   "source": [
    "# eps 0.01 (defense)\n",
    "np.sum([wer * weight for wer, weight in wers]) / np.sum([weight for _, weight in wers])"
   ]
  },
  {
   "cell_type": "code",
   "execution_count": 48,
   "metadata": {},
   "outputs": [
    {
     "data": {
      "text/plain": [
       "0.5870307167235495"
      ]
     },
     "execution_count": 48,
     "metadata": {},
     "output_type": "execute_result"
    }
   ],
   "source": [
    "# eps 0.01 (not defense)\n",
    "np.sum([wer * weight for wer, weight in wers]) / np.sum([weight for _, weight in wers])"
   ]
  },
  {
   "cell_type": "code",
   "execution_count": 35,
   "metadata": {},
   "outputs": [
    {
     "data": {
      "text/plain": [
       "1.6416382252559727"
      ]
     },
     "execution_count": 35,
     "metadata": {},
     "output_type": "execute_result"
    }
   ],
   "source": [
    "# eps 0.1 (defense)\n",
    "np.sum([wer * weight for wer, weight in wers]) / np.sum([weight for _, weight in wers])"
   ]
  },
  {
   "cell_type": "code",
   "execution_count": 40,
   "metadata": {},
   "outputs": [
    {
     "data": {
      "text/plain": [
       "1.386153096050707"
      ]
     },
     "execution_count": 40,
     "metadata": {},
     "output_type": "execute_result"
    }
   ],
   "source": [
    "# eps 0.1 (not defense)\n",
    "np.sum([wer * weight for wer, weight in wers]) / np.sum([weight for _, weight in wers])"
   ]
  },
  {
   "cell_type": "code",
   "execution_count": null,
   "metadata": {},
   "outputs": [],
   "source": [
    "wers"
   ]
  },
  {
   "cell_type": "code",
   "execution_count": 64,
   "metadata": {},
   "outputs": [
    {
     "data": {
      "text/plain": [
       "0.6723549488054608"
      ]
     },
     "execution_count": 64,
     "metadata": {},
     "output_type": "execute_result"
    }
   ],
   "source": [
    "np.sum([wer * weight for wer, weight in wers]) / np.sum([weight for _, weight in wers])"
   ]
  },
  {
   "cell_type": "code",
   "execution_count": 66,
   "metadata": {},
   "outputs": [],
   "source": [
    "import torch\n",
    "from speechbrain.pretrained import HIFIGAN\n",
    "hifi_gan = HIFIGAN.from_hparams(source=\"speechbrain/tts-hifigan-ljspeech\", savedir=\"tmpdir\", run_opts={\"device\":\"cuda\"} )\n",
    "mel_specs = torch.rand(2, 80,298)\n",
    "waveforms = hifi_gan.decode_batch(mel_specs)\n"
   ]
  },
  {
   "cell_type": "code",
   "execution_count": 67,
   "metadata": {},
   "outputs": [
    {
     "data": {
      "text/plain": [
       "tensor([[[ 0.2882,  0.0663, -0.4731,  ...,  0.6131,  0.5997,  0.5510]],\n",
       "\n",
       "        [[ 0.3430,  0.1186, -0.4466,  ...,  0.6641,  0.6654,  0.6347]]],\n",
       "       device='cuda:0')"
      ]
     },
     "execution_count": 67,
     "metadata": {},
     "output_type": "execute_result"
    }
   ],
   "source": [
    "waveforms"
   ]
  },
  {
   "cell_type": "code",
   "execution_count": 68,
   "metadata": {},
   "outputs": [],
   "source": [
    "import librosa"
   ]
  },
  {
   "cell_type": "code",
   "execution_count": 71,
   "metadata": {},
   "outputs": [],
   "source": [
    "wav, sr = librosa.load('/home/rni/.armory/outputs/2022-11-08T050918.786720/saved_samples/0_adversarial.wav')"
   ]
  },
  {
   "cell_type": "code",
   "execution_count": 92,
   "metadata": {},
   "outputs": [
    {
     "data": {
      "text/plain": [
       "array([ 0.00475076,  0.00178127, -0.00507048, ...,  0.00157706,\n",
       "       -0.00039677, -0.0016528 ], dtype=float32)"
      ]
     },
     "execution_count": 92,
     "metadata": {},
     "output_type": "execute_result"
    }
   ],
   "source": [
    "wav"
   ]
  },
  {
   "cell_type": "code",
   "execution_count": 149,
   "metadata": {},
   "outputs": [],
   "source": [
    "waveform, sample_rate = torchaudio.load('example_TTS.wav', normalize=True)\n",
    "get_spec = torchaudio.transforms.Spectrogram(n_fft=158)\n",
    "mel_specs = get_spec(waveform)"
   ]
  },
  {
   "cell_type": "code",
   "execution_count": 152,
   "metadata": {},
   "outputs": [
    {
     "data": {
      "text/plain": [
       "tensor([[[ -7.4205,  -9.2119,  -9.9385,  ..., -13.7250, -17.9394, -13.1379],\n",
       "         [-11.5950,  -6.5161,  -8.9111,  ..., -13.3054, -17.1327, -13.1300],\n",
       "         [-11.8416,  -5.2347,  -6.7549,  ..., -12.3361, -14.1525, -15.9580],\n",
       "         ...,\n",
       "         [-27.6712, -25.6583, -29.3428,  ..., -13.2488, -28.2330, -22.2129],\n",
       "         [-24.1004, -26.5098, -23.9516,  ..., -14.2485, -24.6600, -22.6992],\n",
       "         [-22.4043, -23.1414, -22.3180,  ..., -14.7242, -25.4857, -22.6664]]])"
      ]
     },
     "execution_count": 152,
     "metadata": {},
     "output_type": "execute_result"
    }
   ],
   "source": [
    "np.log2(mel_specs)"
   ]
  },
  {
   "cell_type": "code",
   "execution_count": 145,
   "metadata": {},
   "outputs": [
    {
     "data": {
      "text/plain": [
       "torch.Size([1, 80, 1611])"
      ]
     },
     "execution_count": 145,
     "metadata": {},
     "output_type": "execute_result"
    }
   ],
   "source": [
    "mel_specs.shape"
   ]
  },
  {
   "cell_type": "code",
   "execution_count": 146,
   "metadata": {},
   "outputs": [],
   "source": [
    "waveforms = hifi_gan.decode_batch(np.log(mel_specs))"
   ]
  },
  {
   "cell_type": "code",
   "execution_count": 95,
   "metadata": {},
   "outputs": [
    {
     "data": {
      "text/plain": [
       "-1.0"
      ]
     },
     "execution_count": 95,
     "metadata": {},
     "output_type": "execute_result"
    }
   ],
   "source": [
    "np.min(np.array(waveforms.cpu()))"
   ]
  },
  {
   "cell_type": "code",
   "execution_count": 147,
   "metadata": {},
   "outputs": [],
   "source": [
    "import torchaudio\n",
    "torchaudio.save('example_TTS.wav',waveforms.cpu().squeeze(1), sample_rate)"
   ]
  },
  {
   "cell_type": "code",
   "execution_count": null,
   "metadata": {},
   "outputs": [],
   "source": [
    "import torchaudio\n",
    "from speechbrain.pretrained import Tacotron2\n",
    "from speechbrain.pretrained import HIFIGAN\n",
    "\n",
    "# Intialize TTS (tacotron2) and Vocoder (HiFIGAN)\n",
    "tacotron2 = Tacotron2.from_hparams(source=\"speechbrain/tts-tacotron2-ljspeech\", savedir=\"tmpdir_tts\")\n",
    "hifi_gan = HIFIGAN.from_hparams(source=\"speechbrain/tts-hifigan-ljspeech\", savedir=\"tmpdir_vocoder\")\n",
    "\n",
    "# Running the TTS\n",
    "mel_output, mel_length, alignment = tacotron2.encode_text(\"Mary had a little lamb\")\n",
    "\n",
    "print(mel_output)\n",
    "\n",
    "mel_output += torch.from_numpy(np.random.rand(*mel_output.shape)).double()\n",
    "\n",
    "mel_output = mel_output.to(torch.double)\n",
    "\n",
    "# Running Vocoder (spectrogram-to-waveform)\n",
    "waveforms = hifi_gan.decode_batch(mel_output)\n",
    "\n",
    "# Save the waverform\n",
    "torchaudio.save('example_TTS.wav',waveforms.squeeze(1), 22050)"
   ]
  },
  {
   "cell_type": "code",
   "execution_count": null,
   "metadata": {},
   "outputs": [],
   "source": [
    "np.random.rand(*mel_output.shape)"
   ]
  },
  {
   "cell_type": "code",
   "execution_count": 126,
   "metadata": {},
   "outputs": [],
   "source": [
    "import argparse\n",
    "import logging\n",
    "import os\n",
    "\n",
    "import librosa\n",
    "import numpy as np\n",
    "import soundfile as sf\n",
    "import yaml\n",
    "\n",
    "from tqdm import tqdm\n",
    "\n",
    "\n",
    "def logmelfilterbank(\n",
    "    audio,\n",
    "    sampling_rate,\n",
    "    fft_size=1024,\n",
    "    hop_size=256,\n",
    "    win_length=None,\n",
    "    window=\"hann\",\n",
    "    num_mels=80,\n",
    "    fmin=None,\n",
    "    fmax=None,\n",
    "    eps=1e-10,\n",
    "    log_base=10.0,\n",
    "):\n",
    "    \"\"\"Compute log-Mel filterbank feature.\n",
    "    Args:\n",
    "        audio (ndarray): Audio signal (T,).\n",
    "        sampling_rate (int): Sampling rate.\n",
    "        fft_size (int): FFT size.\n",
    "        hop_size (int): Hop size.\n",
    "        win_length (int): Window length. If set to None, it will be the same as fft_size.\n",
    "        window (str): Window function type.\n",
    "        num_mels (int): Number of mel basis.\n",
    "        fmin (int): Minimum frequency in mel basis calculation.\n",
    "        fmax (int): Maximum frequency in mel basis calculation.\n",
    "        eps (float): Epsilon value to avoid inf in log calculation.\n",
    "        log_base (float): Log base. If set to None, use np.log.\n",
    "    Returns:\n",
    "        ndarray: Log Mel filterbank feature (#frames, num_mels).\n",
    "    \"\"\"\n",
    "    # get amplitude spectrogram\n",
    "    x_stft = librosa.stft(\n",
    "        audio,\n",
    "        n_fft=fft_size,\n",
    "        hop_length=hop_size,\n",
    "        win_length=win_length,\n",
    "        window=window,\n",
    "        pad_mode=\"reflect\",\n",
    "    )\n",
    "    spc = np.abs(x_stft).T  # (#frames, #bins)\n",
    "\n",
    "    # get mel basis\n",
    "    fmin = 0 if fmin is None else fmin\n",
    "    fmax = sampling_rate / 2 if fmax is None else fmax\n",
    "    mel_basis = librosa.filters.mel(\n",
    "        sr=sampling_rate,\n",
    "        n_fft=fft_size,\n",
    "        n_mels=num_mels,\n",
    "        fmin=fmin,\n",
    "        fmax=fmax,\n",
    "    )\n",
    "    mel = np.maximum(eps, np.dot(spc, mel_basis.T))\n",
    "\n",
    "    if log_base is None:\n",
    "        return np.log(mel)\n",
    "    elif log_base == 10.0:\n",
    "        return np.log10(mel)\n",
    "    elif log_base == 2.0:\n",
    "        return np.log2(mel)\n",
    "    else:\n",
    "        raise ValueError(f\"{log_base} is not supported.\")"
   ]
  },
  {
   "cell_type": "code",
   "execution_count": 128,
   "metadata": {},
   "outputs": [
    {
     "ename": "ValueError",
     "evalue": "shapes (141,513,1) and (513,80) not aligned: 1 (dim 2) != 513 (dim 0)",
     "output_type": "error",
     "traceback": [
      "\u001b[0;31m---------------------------------------------------------------------------\u001b[0m",
      "\u001b[0;31mValueError\u001b[0m                                Traceback (most recent call last)",
      "\u001b[1;32m/home/rni/IDL_project/deep_speech.ipynb Cell 48\u001b[0m in \u001b[0;36m<cell line: 1>\u001b[0;34m()\u001b[0m\n\u001b[0;32m----> <a href='vscode-notebook-cell://ssh-remote%2B128.237.154.73/home/rni/IDL_project/deep_speech.ipynb#X66sdnNjb2RlLXJlbW90ZQ%3D%3D?line=0'>1</a>\u001b[0m logmelfilterbank(np\u001b[39m.\u001b[39;49marray(waveform), sample_rate)\n",
      "\u001b[1;32m/home/rni/IDL_project/deep_speech.ipynb Cell 48\u001b[0m in \u001b[0;36mlogmelfilterbank\u001b[0;34m(audio, sampling_rate, fft_size, hop_size, win_length, window, num_mels, fmin, fmax, eps, log_base)\u001b[0m\n\u001b[1;32m     <a href='vscode-notebook-cell://ssh-remote%2B128.237.154.73/home/rni/IDL_project/deep_speech.ipynb#X66sdnNjb2RlLXJlbW90ZQ%3D%3D?line=54'>55</a>\u001b[0m fmax \u001b[39m=\u001b[39m sampling_rate \u001b[39m/\u001b[39m \u001b[39m2\u001b[39m \u001b[39mif\u001b[39;00m fmax \u001b[39mis\u001b[39;00m \u001b[39mNone\u001b[39;00m \u001b[39melse\u001b[39;00m fmax\n\u001b[1;32m     <a href='vscode-notebook-cell://ssh-remote%2B128.237.154.73/home/rni/IDL_project/deep_speech.ipynb#X66sdnNjb2RlLXJlbW90ZQ%3D%3D?line=55'>56</a>\u001b[0m mel_basis \u001b[39m=\u001b[39m librosa\u001b[39m.\u001b[39mfilters\u001b[39m.\u001b[39mmel(\n\u001b[1;32m     <a href='vscode-notebook-cell://ssh-remote%2B128.237.154.73/home/rni/IDL_project/deep_speech.ipynb#X66sdnNjb2RlLXJlbW90ZQ%3D%3D?line=56'>57</a>\u001b[0m     sr\u001b[39m=\u001b[39msampling_rate,\n\u001b[1;32m     <a href='vscode-notebook-cell://ssh-remote%2B128.237.154.73/home/rni/IDL_project/deep_speech.ipynb#X66sdnNjb2RlLXJlbW90ZQ%3D%3D?line=57'>58</a>\u001b[0m     n_fft\u001b[39m=\u001b[39mfft_size,\n\u001b[0;32m   (...)\u001b[0m\n\u001b[1;32m     <a href='vscode-notebook-cell://ssh-remote%2B128.237.154.73/home/rni/IDL_project/deep_speech.ipynb#X66sdnNjb2RlLXJlbW90ZQ%3D%3D?line=60'>61</a>\u001b[0m     fmax\u001b[39m=\u001b[39mfmax,\n\u001b[1;32m     <a href='vscode-notebook-cell://ssh-remote%2B128.237.154.73/home/rni/IDL_project/deep_speech.ipynb#X66sdnNjb2RlLXJlbW90ZQ%3D%3D?line=61'>62</a>\u001b[0m )\n\u001b[0;32m---> <a href='vscode-notebook-cell://ssh-remote%2B128.237.154.73/home/rni/IDL_project/deep_speech.ipynb#X66sdnNjb2RlLXJlbW90ZQ%3D%3D?line=62'>63</a>\u001b[0m mel \u001b[39m=\u001b[39m np\u001b[39m.\u001b[39mmaximum(eps, np\u001b[39m.\u001b[39;49mdot(spc, mel_basis\u001b[39m.\u001b[39;49mT))\n\u001b[1;32m     <a href='vscode-notebook-cell://ssh-remote%2B128.237.154.73/home/rni/IDL_project/deep_speech.ipynb#X66sdnNjb2RlLXJlbW90ZQ%3D%3D?line=64'>65</a>\u001b[0m \u001b[39mif\u001b[39;00m log_base \u001b[39mis\u001b[39;00m \u001b[39mNone\u001b[39;00m:\n\u001b[1;32m     <a href='vscode-notebook-cell://ssh-remote%2B128.237.154.73/home/rni/IDL_project/deep_speech.ipynb#X66sdnNjb2RlLXJlbW90ZQ%3D%3D?line=65'>66</a>\u001b[0m     \u001b[39mreturn\u001b[39;00m np\u001b[39m.\u001b[39mlog(mel)\n",
      "File \u001b[0;32m<__array_function__ internals>:180\u001b[0m, in \u001b[0;36mdot\u001b[0;34m(*args, **kwargs)\u001b[0m\n",
      "\u001b[0;31mValueError\u001b[0m: shapes (141,513,1) and (513,80) not aligned: 1 (dim 2) != 513 (dim 0)"
     ]
    }
   ],
   "source": [
    "logmelfilterbank(np.array(waveform), sample_rate)"
   ]
  },
  {
   "cell_type": "code",
   "execution_count": 175,
   "metadata": {},
   "outputs": [],
   "source": [
    "import pickle\n",
    "\n",
    "with open(\"/home/rni/.armory/outputs/2022-11-08T050918.786720/saved_samples/predictions.pkl\", 'rb') as f:\n",
    "    pred = pickle.load(f)"
   ]
  },
  {
   "cell_type": "code",
   "execution_count": null,
   "metadata": {},
   "outputs": [],
   "source": [
    "pred"
   ]
  },
  {
   "cell_type": "code",
   "execution_count": 7,
   "metadata": {},
   "outputs": [],
   "source": [
    "eps_e_4 = \"2022-11-08T052340.454091\"\n",
    "eps_e_3 = \"2022-11-08T051608.443297\"\n",
    "eps_e_2 = \"2022-11-08T050918.786720\"\n",
    "eps_e_1 = \"2022-11-08T045935.143694\"\n",
    "eps_2e_1 = \"\""
   ]
  },
  {
   "cell_type": "code",
   "execution_count": 7,
   "metadata": {},
   "outputs": [],
   "source": [
    "def word_error_rate(y, y_pred):\n",
    "    import numpy as np\n",
    "    \"\"\"\n",
    "    Return the word error rate for a batch of transcriptions.\n",
    "    \"\"\"\n",
    "    if isinstance(y, bytes):\n",
    "        y = y.decode(\"utf-8\")\n",
    "    elif not isinstance(y, str):\n",
    "        raise TypeError(f\"y is of type {type(y)}, expected string or bytes\")\n",
    "    if isinstance(y_pred, bytes):\n",
    "        y_pred = y_pred.decode(\"utf-8\")\n",
    "    elif not isinstance(y_pred, str):\n",
    "        raise TypeError(f\"y_pred is of type {type(y_pred)}, expected string or bytes\")\n",
    "    reference = y.split()\n",
    "    hypothesis = y_pred.split()\n",
    "\n",
    "    r_length = len(reference)\n",
    "    h_length = len(hypothesis)\n",
    "    matrix = np.zeros((r_length + 1, h_length + 1))\n",
    "    for i in range(r_length + 1):\n",
    "        for j in range(h_length + 1):\n",
    "            if i == 0:\n",
    "                matrix[0][j] = j\n",
    "            elif j == 0:\n",
    "                matrix[i][0] = i\n",
    "    for i in range(1, r_length + 1):\n",
    "        for j in range(1, h_length + 1):\n",
    "            if reference[i - 1] == hypothesis[j - 1]:\n",
    "                matrix[i][j] = matrix[i - 1][j - 1]\n",
    "            else:\n",
    "                substitute = matrix[i - 1][j - 1] + 1\n",
    "                insertion = matrix[i][j - 1] + 1\n",
    "                deletion = matrix[i - 1][j] + 1\n",
    "                matrix[i][j] = min(substitute, insertion, deletion)\n",
    "    return (matrix[r_length][h_length], r_length)"
   ]
  },
  {
   "cell_type": "code",
   "execution_count": 14,
   "metadata": {},
   "outputs": [],
   "source": [
    "def no_defense(folder):\n",
    "    RECONSTRUCTED_LOW_SR = \"/home/rni/.armory/outputs/\"+folder+\"/saved_samples\"\n",
    "\n",
    "    import os, re\n",
    "    import numpy as np\n",
    "    from scipy.io import wavfile\n",
    "    files = [f for f in os.listdir(RECONSTRUCTED_LOW_SR) if f.endswith(\".wav\")]\n",
    "\n",
    "    files = sorted(files, key=lambda f: int(re.sub('\\D', '', f)))\n",
    "\n",
    "    adv = [os.path.join(RECONSTRUCTED_LOW_SR, f) for f in files if f.endswith(\"adversarial.wav\")]\n",
    "    adv\n",
    "    from jiwer import wer\n",
    "    wers = []\n",
    "    for id, file in enumerate(adv):\n",
    "        samplerate, data = wavfile.read(file)\n",
    "        recons_res = ds2.predict(x = np.array([data]), batch_size= 1)\n",
    "        # print(recons_res)\n",
    "        gt_len = len(strings[id].decode().split())\n",
    "        # wers.append((wer(strings[id].decode(), recons_res[0]), gt_len))\n",
    "        wers.append(word_error_rate(strings[id], recons_res[0]))\n",
    "\n",
    "    print(wers)\n",
    "    # return np.sum([wer * weight for wer, weight in wers]) / np.sum([weight for _, weight in wers]), np.average([wer for wer, _ in wers])\n",
    "    return np.sum([error for error, _ in wers]) / np.sum([length for _, length in wers])"
   ]
  },
  {
   "cell_type": "code",
   "execution_count": 15,
   "metadata": {},
   "outputs": [],
   "source": [
    "def defense(folder):\n",
    "    RECONSTRUCTED_LOW_SR = \"/home/rni/.armory/outputs/\"+folder+\"/reconstructed_low_sampled\"\n",
    "    import os, re\n",
    "    import numpy as np\n",
    "    from scipy.io import wavfile\n",
    "    files = [f for f in os.listdir(RECONSTRUCTED_LOW_SR) if f.endswith(\".wav\")]\n",
    "\n",
    "    files = sorted(files, key=lambda f: int(re.sub('\\D', '', f)))\n",
    "\n",
    "    adv = [os.path.join(RECONSTRUCTED_LOW_SR, f) for f in files if f.endswith(\"adversarial_gen.wav\")]\n",
    "    adv\n",
    "    from jiwer import wer\n",
    "    wers = []\n",
    "    for id, file in enumerate(adv):\n",
    "        samplerate, data = wavfile.read(file)\n",
    "        data = data.astype(np.float32)\n",
    "        max_int16 = 2**40\n",
    "        data = data / max_int16\n",
    "        recons_res = ds2.predict(x = np.array([data]), batch_size= 1)\n",
    "        # print(recons_res)\n",
    "        gt_len = len(strings[id].decode().split())\n",
    "        # wers.append((wer(strings[id].decode(), recons_res[0]), gt_len))\n",
    "        wers.append(word_error_rate(strings[id], recons_res[0]))\n",
    "\n",
    "    print(wers)\n",
    "    # return np.sum([wer * weight for wer, weight in wers]) / np.sum([weight for _, weight in wers]), np.average([wer for wer, _ in wers])\n",
    "    return np.sum([error for error, _ in wers]) / np.sum([length for _, length in wers])"
   ]
  },
  {
   "cell_type": "code",
   "execution_count": 64,
   "metadata": {},
   "outputs": [],
   "source": [
    "def defense_hifi(folder):\n",
    "    RECONSTRUCTED_LOW_SR = \"/home/rni/.armory/outputs/\"+folder+\"/reconstructed_low_sampled_hifi\"\n",
    "    import os, re\n",
    "    import numpy as np\n",
    "    from scipy.io import wavfile\n",
    "    files = [f for f in os.listdir(RECONSTRUCTED_LOW_SR) if f.endswith(\".wav\")]\n",
    "\n",
    "    files = sorted(files, key=lambda f: int(re.sub('\\D', '', f)))\n",
    "\n",
    "    adv = [os.path.join(RECONSTRUCTED_LOW_SR, f) for f in files if f.endswith(\"adversarial_gen.wav\")]\n",
    "    adv\n",
    "    from jiwer import wer\n",
    "    wers = []\n",
    "    for id, file in enumerate(adv):\n",
    "        samplerate, data = wavfile.read(file)\n",
    "        data = data.astype(np.float32)\n",
    "        max_int16 = 2**40\n",
    "        data = data / max_int16\n",
    "        recons_res = ds2.predict(x = np.array([data]), batch_size= 1)\n",
    "        gt_len = len(strings[id].decode().split())\n",
    "        # wers.append((wer(strings[id].decode(), recons_res[0]), gt_len))\n",
    "        wers.append(word_error_rate(strings[id], recons_res[0]))\n",
    "\n",
    "    # return np.sum([wer * weight for wer, weight in wers]) / np.sum([weight for _, weight in wers]), np.average([wer for wer, _ in wers])\n",
    "    return np.sum([error for error, _ in wers]) / np.sum([length for _, length in wers])"
   ]
  },
  {
   "cell_type": "code",
   "execution_count": 72,
   "metadata": {},
   "outputs": [],
   "source": [
    "def defense_arc(folder):\n",
    "    RECONSTRUCTED_LOW_SR = \"/home/rni/.armory/outputs/\"+folder+\"/reconstructed_arc\"\n",
    "    import os, re\n",
    "    import numpy as np\n",
    "    from scipy.io import wavfile\n",
    "    files = [f for f in os.listdir(RECONSTRUCTED_LOW_SR) if f.endswith(\".wav\")]\n",
    "\n",
    "    files = sorted(files, key=lambda f: int(re.sub('\\D', '', f)))\n",
    "\n",
    "    adv = [os.path.join(RECONSTRUCTED_LOW_SR, f) for f in files if f.endswith(\"adversarial_gen.wav\")]\n",
    "    adv\n",
    "    from jiwer import wer\n",
    "    wers = []\n",
    "    for id, file in enumerate(adv):\n",
    "        samplerate, data = wavfile.read(file)\n",
    "        data = data.astype(np.float32)\n",
    "        max_int16 = 2**40\n",
    "        data = data / max_int16\n",
    "        recons_res = ds2.predict(x = np.array([data]), batch_size= 1)\n",
    "        gt_len = len(strings[id].decode().split())\n",
    "        # wers.append((wer(strings[id].decode(), recons_res[0]), gt_len))\n",
    "        wers.append(word_error_rate(strings[id], recons_res[0]))\n",
    "\n",
    "    # return np.sum([wer * weight for wer, weight in wers]) / np.sum([weight for _, weight in wers]), np.average([wer for wer, _ in wers])\n",
    "    return np.sum([error for error, _ in wers]) / np.sum([length for _, length in wers])"
   ]
  },
  {
   "cell_type": "code",
   "execution_count": 22,
   "metadata": {},
   "outputs": [],
   "source": [
    "def defense_lj_wave(folder):\n",
    "    RECONSTRUCTED_LOW_SR = \"/home/rni/.armory/outputs/\"+folder+\"/reconstructed_lj_wave_low_sampled\"\n",
    "    import os, re\n",
    "    import numpy as np\n",
    "    from scipy.io import wavfile\n",
    "    files = [f for f in os.listdir(RECONSTRUCTED_LOW_SR) if f.endswith(\".wav\")]\n",
    "\n",
    "    files = sorted(files, key=lambda f: int(re.sub('\\D', '', f)))\n",
    "\n",
    "    adv = [os.path.join(RECONSTRUCTED_LOW_SR, f) for f in files if f.endswith(\"adversarial_gen.wav\")]\n",
    "    adv\n",
    "    from jiwer import wer\n",
    "    wers = []\n",
    "    for id, file in enumerate(adv):\n",
    "        samplerate, data = wavfile.read(file)\n",
    "        data = data.astype(np.float32)\n",
    "        max_int16 = 2**40\n",
    "        data = data / max_int16\n",
    "        recons_res = ds2.predict(x = np.array([data]), batch_size= 1)\n",
    "        # print(recons_res)\n",
    "        gt_len = len(strings[id].decode().split())\n",
    "        # wers.append((wer(strings[id].decode(), recons_res[0]), gt_len))\n",
    "        wers.append(word_error_rate(strings[id], recons_res[0]))\n",
    "\n",
    "    print(wers)\n",
    "    # return np.sum([wer * weight for wer, weight in wers]) / np.sum([weight for _, weight in wers]), np.average([wer for wer, _ in wers])\n",
    "    return np.sum([error for error, _ in wers]) / np.sum([length for _, length in wers])"
   ]
  },
  {
   "cell_type": "code",
   "execution_count": 94,
   "metadata": {},
   "outputs": [
    {
     "name": "stdout",
     "output_type": "stream",
     "text": [
      "0.1053144807411019\n",
      "0.1657727937591419\n",
      "0.15504631886884446\n",
      "0.18917601170160897\n",
      "0.7357386640663092\n",
      "0.5343734763529986\n",
      "1.6021452949780595\n",
      "1.2311067771818625\n"
     ]
    }
   ],
   "source": [
    "print(no_defense(eps_e_4))\n",
    "print(defense(eps_e_4))\n",
    "\n",
    "print(no_defense(eps_e_3))\n",
    "print(defense(eps_e_3))\n",
    "\n",
    "print(no_defense(eps_e_2))\n",
    "print(defense(eps_e_2))\n",
    "\n",
    "print(no_defense(eps_e_1))\n",
    "print(defense(eps_e_1))"
   ]
  },
  {
   "cell_type": "code",
   "execution_count": 95,
   "metadata": {},
   "outputs": [
    {
     "name": "stdout",
     "output_type": "stream",
     "text": [
      "0.1053144807411019\n",
      "0.1657727937591419\n",
      "0.15504631886884446\n",
      "0.18917601170160897\n",
      "0.7357386640663092\n",
      "0.5343734763529986\n",
      "1.6021452949780595\n",
      "1.2311067771818625\n"
     ]
    }
   ],
   "source": [
    "print(no_defense(eps_e_4))\n",
    "print(defense(eps_e_4))\n",
    "\n",
    "print(no_defense(eps_e_3))\n",
    "print(defense(eps_e_3))\n",
    "\n",
    "print(no_defense(eps_e_2))\n",
    "print(defense(eps_e_2))\n",
    "\n",
    "print(no_defense(eps_e_1))\n",
    "print(defense(eps_e_1))"
   ]
  },
  {
   "cell_type": "code",
   "execution_count": null,
   "metadata": {},
   "outputs": [],
   "source": [
    "from art.attacks.evasion import ProjectedGradientDescentPyTorch, ProjectedGradientDescent\n",
    "pgd = ProjectedGradientDescent(ds2, norm='inf', eps=0.01, eps_step=0.002, max_iter=7)\n",
    "from scipy.io import wavfile\n",
    "import numpy as np\n",
    "samplerate, data = wavfile.read('/home/rni/.armory/outputs/2022-11-08T050918.786720/saved_samples/36_benign.wav')\n",
    "adv = pgd.generate(np.array([data]))"
   ]
  },
  {
   "cell_type": "code",
   "execution_count": 13,
   "metadata": {},
   "outputs": [],
   "source": [
    "def attack(eps, output):\n",
    "    from scipy.io import wavfile\n",
    "    import numpy as np\n",
    "    import os, re\n",
    "    try:\n",
    "        os.makedirs(output)\n",
    "    except:\n",
    "        pass\n",
    "    RECONSTRUCTED_LOW_SR = \"/home/rni/.armory/outputs/2022-11-08T052340.454091/saved_samples\"\n",
    "    from art.attacks.evasion import ProjectedGradientDescentPyTorch, ProjectedGradientDescent\n",
    "    pgd = ProjectedGradientDescent(ds2, norm='inf', eps=eps, eps_step=eps/5, max_iter=7, batch_size=1)\n",
    "\n",
    "    files = [f for f in os.listdir(RECONSTRUCTED_LOW_SR) if f.endswith(\".wav\")]\n",
    "\n",
    "    files = sorted(files, key=lambda f: int(re.sub('\\D', '', f)))\n",
    "\n",
    "    adv = [os.path.join(RECONSTRUCTED_LOW_SR, f) for f in files if f.endswith(\"benign.wav\")]\n",
    "    adv\n",
    "    from jiwer import wer\n",
    "    index = 0\n",
    "    for id, file in enumerate(adv):\n",
    "        samplerate, data = wavfile.read(file)\n",
    "        adv_sample = (pgd.generate(np.array([data])))\n",
    "        wavfile.write(os.path.join(output, str(index)+\"_adversarial.wav\"), samplerate, adv_sample.T)\n",
    "        index += 1\n"
   ]
  },
  {
   "cell_type": "code",
   "execution_count": null,
   "metadata": {},
   "outputs": [],
   "source": [
    "attack(0.001, \"/home/rni/.armory/outputs/new_attack_0_001\")"
   ]
  },
  {
   "cell_type": "code",
   "execution_count": 16,
   "metadata": {},
   "outputs": [
    {
     "name": "stdout",
     "output_type": "stream",
     "text": [
      "[(16.0, 33), (8.0, 19), (6.0, 12), (8.0, 12), (12.0, 50), (5.0, 17), (9.0, 14), (5.0, 12), (2.0, 2), (25.0, 54), (32.0, 59), (15.0, 22), (5.0, 17), (4.0, 8), (3.0, 8), (6.0, 20), (3.0, 5), (19.0, 43), (3.0, 6), (1.0, 4), (14.0, 21), (16.0, 27), (14.0, 22), (15.0, 27), (8.0, 12), (10.0, 17), (11.0, 26), (3.0, 4), (14.0, 43), (8.0, 18), (19.0, 29), (1.0, 7), (6.0, 24), (17.0, 27), (5.0, 7), (13.0, 23), (4.0, 14), (3.0, 9), (6.0, 8), (5.0, 6), (9.0, 15), (9.0, 14), (3.0, 27), (12.0, 33), (3.0, 8), (13.0, 33), (7.0, 19), (2.0, 18), (10.0, 43), (4.0, 11), (3.0, 7), (5.0, 27), (4.0, 9), (19.0, 31), (7.0, 26), (4.0, 13), (2.0, 2), (9.0, 24), (0.0, 13), (18.0, 43), (7.0, 12), (16.0, 40), (9.0, 31), (13.0, 18), (1.0, 7), (5.0, 23), (12.0, 19), (9.0, 13), (12.0, 30), (5.0, 18), (9.0, 27), (12.0, 17), (31.0, 61), (6.0, 9), (4.0, 7), (14.0, 34), (5.0, 17), (7.0, 10), (7.0, 25), (5.0, 7), (7.0, 11), (5.0, 6), (4.0, 9), (9.0, 31), (15.0, 46), (33.0, 50), (13.0, 40), (5.0, 16), (5.0, 18), (1.0, 2), (4.0, 14), (3.0, 4), (13.0, 35), (6.0, 10), (17.0, 23), (2.0, 6), (7.0, 18), (11.0, 17), (10.0, 36), (10.0, 30)]\n",
      "0.43442223305704536\n"
     ]
    }
   ],
   "source": [
    "print(no_defense(\"new_attack_0_001\"))"
   ]
  },
  {
   "cell_type": "code",
   "execution_count": 17,
   "metadata": {},
   "outputs": [
    {
     "name": "stdout",
     "output_type": "stream",
     "text": [
      "[(13.0, 33), (5.0, 19), (3.0, 12), (4.0, 12), (8.0, 50), (2.0, 17), (0.0, 14), (2.0, 12), (2.0, 2), (17.0, 54), (27.0, 59), (8.0, 22), (8.0, 17), (4.0, 8), (1.0, 8), (3.0, 20), (3.0, 5), (12.0, 43), (2.0, 6), (0.0, 4), (8.0, 21), (8.0, 27), (5.0, 22), (11.0, 27), (6.0, 12), (6.0, 17), (8.0, 26), (0.0, 4), (8.0, 43), (4.0, 18), (10.0, 29), (1.0, 7), (5.0, 24), (14.0, 27), (4.0, 7), (10.0, 23), (3.0, 14), (2.0, 9), (5.0, 8), (2.0, 6), (5.0, 15), (7.0, 14), (2.0, 27), (10.0, 33), (2.0, 8), (8.0, 33), (6.0, 19), (1.0, 18), (7.0, 43), (3.0, 11), (2.0, 7), (6.0, 27), (2.0, 9), (16.0, 31), (4.0, 26), (2.0, 13), (2.0, 2), (2.0, 24), (1.0, 13), (10.0, 43), (5.0, 12), (9.0, 40), (11.0, 31), (9.0, 18), (0.0, 7), (4.0, 23), (10.0, 19), (3.0, 13), (7.0, 30), (4.0, 18), (1.0, 27), (3.0, 17), (23.0, 61), (3.0, 9), (2.0, 7), (13.0, 34), (1.0, 17), (5.0, 10), (4.0, 25), (4.0, 7), (3.0, 11), (0.0, 6), (4.0, 9), (11.0, 31), (13.0, 46), (17.0, 50), (8.0, 40), (1.0, 16), (3.0, 18), (0.0, 2), (3.0, 14), (3.0, 4), (8.0, 35), (5.0, 10), (10.0, 23), (2.0, 6), (3.0, 18), (7.0, 17), (5.0, 36), (6.0, 30)]\n",
      "0.280351048269137\n"
     ]
    }
   ],
   "source": [
    "print(defense(\"new_attack_0_001\"))"
   ]
  },
  {
   "cell_type": "code",
   "execution_count": null,
   "metadata": {},
   "outputs": [],
   "source": [
    "attack(0.01, \"/home/rni/.armory/outputs/new_attack_0_01/saved_samples\")\n"
   ]
  },
  {
   "cell_type": "code",
   "execution_count": 18,
   "metadata": {},
   "outputs": [
    {
     "name": "stdout",
     "output_type": "stream",
     "text": [
      "[(41.0, 33), (22.0, 19), (21.0, 12), (12.0, 12), (63.0, 50), (16.0, 17), (18.0, 14), (11.0, 12), (4.0, 2), (54.0, 54), (58.0, 59), (23.0, 22), (14.0, 17), (7.0, 8), (10.0, 8), (19.0, 20), (6.0, 5), (41.0, 43), (6.0, 6), (5.0, 4), (22.0, 21), (25.0, 27), (43.0, 22), (39.0, 27), (11.0, 12), (17.0, 17), (28.0, 26), (7.0, 4), (47.0, 43), (20.0, 18), (37.0, 29), (15.0, 7), (29.0, 24), (22.0, 27), (8.0, 7), (23.0, 23), (13.0, 14), (15.0, 9), (6.0, 8), (7.0, 6), (15.0, 15), (18.0, 14), (22.0, 27), (30.0, 33), (12.0, 8), (43.0, 33), (14.0, 19), (17.0, 18), (33.0, 43), (15.0, 11), (6.0, 7), (34.0, 27), (15.0, 9), (34.0, 31), (29.0, 26), (12.0, 13), (3.0, 2), (23.0, 24), (12.0, 13), (46.0, 43), (12.0, 12), (45.0, 40), (31.0, 31), (19.0, 18), (5.0, 7), (22.0, 23), (19.0, 19), (12.0, 13), (25.0, 30), (25.0, 18), (31.0, 27), (16.0, 17), (71.0, 61), (21.0, 9), (7.0, 7), (33.0, 34), (18.0, 17), (16.0, 10), (25.0, 25), (10.0, 7), (15.0, 11), (7.0, 6), (9.0, 9), (28.0, 31), (43.0, 46), (66.0, 50), (40.0, 40), (15.0, 16), (17.0, 18), (6.0, 2), (16.0, 14), (4.0, 4), (30.0, 35), (10.0, 10), (32.0, 23), (9.0, 6), (23.0, 18), (18.0, 17), (30.0, 36), (25.0, 30)]\n",
      "1.0843490980009751\n",
      "[(34.0, 33), (16.0, 19), (10.0, 12), (10.0, 12), (57.0, 50), (8.0, 17), (12.0, 14), (10.0, 12), (2.0, 2), (44.0, 54), (55.0, 59), (17.0, 22), (11.0, 17), (6.0, 8), (8.0, 8), (16.0, 20), (6.0, 5), (29.0, 43), (5.0, 6), (3.0, 4), (17.0, 21), (25.0, 27), (32.0, 22), (33.0, 27), (11.0, 12), (14.0, 17), (21.0, 26), (4.0, 4), (45.0, 43), (15.0, 18), (31.0, 29), (12.0, 7), (23.0, 24), (22.0, 27), (5.0, 7), (23.0, 23), (9.0, 14), (6.0, 9), (6.0, 8), (6.0, 6), (15.0, 15), (17.0, 14), (11.0, 27), (21.0, 33), (12.0, 8), (25.0, 33), (10.0, 19), (14.0, 18), (24.0, 43), (14.0, 11), (1.0, 7), (13.0, 27), (13.0, 9), (31.0, 31), (18.0, 26), (7.0, 13), (2.0, 2), (20.0, 24), (8.0, 13), (36.0, 43), (13.0, 12), (40.0, 40), (25.0, 31), (16.0, 18), (5.0, 7), (16.0, 23), (19.0, 19), (10.0, 13), (21.0, 30), (24.0, 18), (19.0, 27), (13.0, 17), (61.0, 61), (9.0, 9), (5.0, 7), (26.0, 34), (14.0, 17), (10.0, 10), (21.0, 25), (7.0, 7), (14.0, 11), (4.0, 6), (6.0, 9), (25.0, 31), (28.0, 46), (40.0, 50), (29.0, 40), (14.0, 16), (13.0, 18), (3.0, 2), (10.0, 14), (4.0, 4), (22.0, 35), (9.0, 10), (22.0, 23), (3.0, 6), (18.0, 18), (17.0, 17), (22.0, 36), (22.0, 30)]\n",
      "0.8434909800097513\n"
     ]
    }
   ],
   "source": [
    "print(no_defense(\"new_attack_0_01\"))\n",
    "print(defense(\"new_attack_0_01\"))"
   ]
  },
  {
   "cell_type": "code",
   "execution_count": null,
   "metadata": {},
   "outputs": [],
   "source": [
    "attack(0.005, \"/home/rni/.armory/outputs/new_attack_0_005/saved_samples\")"
   ]
  },
  {
   "cell_type": "code",
   "execution_count": 131,
   "metadata": {},
   "outputs": [
    {
     "name": "stdout",
     "output_type": "stream",
     "text": [
      "0.825938566552901\n",
      "0.6099463676255485\n"
     ]
    }
   ],
   "source": [
    "print(no_defense(\"new_attack_0_005\"))\n",
    "print(defense(\"new_attack_0_005\"))"
   ]
  },
  {
   "cell_type": "code",
   "execution_count": 23,
   "metadata": {},
   "outputs": [
    {
     "name": "stdout",
     "output_type": "stream",
     "text": [
      "[(22.0, 33), (13.0, 19), (9.0, 12), (6.0, 12), (37.0, 50), (4.0, 17), (3.0, 14), (8.0, 12), (2.0, 2), (29.0, 54), (50.0, 59), (21.0, 22), (12.0, 17), (6.0, 8), (3.0, 8), (14.0, 20), (4.0, 5), (17.0, 43), (6.0, 6), (0.0, 4), (15.0, 21), (21.0, 27), (17.0, 22), (20.0, 27), (12.0, 12), (14.0, 17), (16.0, 26), (2.0, 4), (32.0, 43), (7.0, 18), (23.0, 29), (3.0, 7), (18.0, 24), (23.0, 27), (5.0, 7), (21.0, 23), (9.0, 14), (6.0, 9), (6.0, 8), (6.0, 6), (12.0, 15), (11.0, 14), (8.0, 27), (13.0, 33), (5.0, 8), (21.0, 33), (11.0, 19), (4.0, 18), (18.0, 43), (8.0, 11), (3.0, 7), (7.0, 27), (7.0, 9), (26.0, 31), (14.0, 26), (4.0, 13), (2.0, 2), (14.0, 24), (6.0, 13), (31.0, 43), (8.0, 12), (22.0, 40), (24.0, 31), (13.0, 18), (2.0, 7), (9.0, 23), (15.0, 19), (9.0, 13), (21.0, 30), (17.0, 18), (11.0, 27), (11.0, 17), (40.0, 61), (8.0, 9), (3.0, 7), (29.0, 34), (8.0, 17), (10.0, 10), (21.0, 25), (3.0, 7), (9.0, 11), (5.0, 6), (4.0, 9), (17.0, 31), (26.0, 46), (35.0, 50), (19.0, 40), (11.0, 16), (6.0, 18), (2.0, 2), (4.0, 14), (3.0, 4), (15.0, 35), (8.0, 10), (18.0, 23), (2.0, 6), (14.0, 18), (12.0, 17), (15.0, 36), (15.0, 30)]\n",
      "0.6294490492442711\n"
     ]
    }
   ],
   "source": [
    "print(defense_lj_wave(\"new_attack_0_005\"))"
   ]
  },
  {
   "cell_type": "code",
   "execution_count": 25,
   "metadata": {},
   "outputs": [
    {
     "name": "stdout",
     "output_type": "stream",
     "text": [
      "[(35.0, 33), (18.0, 19), (11.0, 12), (8.0, 12), (59.0, 50), (9.0, 17), (10.0, 14), (10.0, 12), (2.0, 2), (41.0, 54), (53.0, 59), (21.0, 22), (13.0, 17), (6.0, 8), (8.0, 8), (16.0, 20), (5.0, 5), (26.0, 43), (6.0, 6), (2.0, 4), (18.0, 21), (24.0, 27), (25.0, 22), (32.0, 27), (11.0, 12), (15.0, 17), (19.0, 26), (3.0, 4), (48.0, 43), (15.0, 18), (32.0, 29), (11.0, 7), (22.0, 24), (22.0, 27), (5.0, 7), (23.0, 23), (10.0, 14), (6.0, 9), (6.0, 8), (5.0, 6), (14.0, 15), (16.0, 14), (14.0, 27), (25.0, 33), (9.0, 8), (26.0, 33), (12.0, 19), (15.0, 18), (26.0, 43), (12.0, 11), (1.0, 7), (18.0, 27), (12.0, 9), (29.0, 31), (20.0, 26), (8.0, 13), (2.0, 2), (21.0, 24), (7.0, 13), (39.0, 43), (11.0, 12), (38.0, 40), (28.0, 31), (14.0, 18), (4.0, 7), (18.0, 23), (18.0, 19), (10.0, 13), (21.0, 30), (21.0, 18), (21.0, 27), (14.0, 17), (54.0, 61), (10.0, 9), (4.0, 7), (25.0, 34), (15.0, 17), (10.0, 10), (22.0, 25), (5.0, 7), (14.0, 11), (5.0, 6), (6.0, 9), (25.0, 31), (32.0, 46), (42.0, 50), (27.0, 40), (15.0, 16), (14.0, 18), (3.0, 2), (9.0, 14), (4.0, 4), (26.0, 35), (9.0, 10), (21.0, 23), (3.0, 6), (19.0, 18), (16.0, 17), (24.0, 36), (22.0, 30)]\n",
      "0.8464163822525598\n"
     ]
    }
   ],
   "source": [
    "print(defense_lj_wave(\"new_attack_0_01\"))"
   ]
  },
  {
   "cell_type": "code",
   "execution_count": 24,
   "metadata": {},
   "outputs": [
    {
     "name": "stdout",
     "output_type": "stream",
     "text": [
      "[(8.0, 33), (1.0, 19), (2.0, 12), (1.0, 12), (2.0, 50), (0.0, 17), (1.0, 14), (3.0, 12), (2.0, 2), (12.0, 54), (25.0, 59), (3.0, 22), (3.0, 17), (3.0, 8), (0.0, 8), (4.0, 20), (0.0, 5), (6.0, 43), (0.0, 6), (1.0, 4), (7.0, 21), (4.0, 27), (1.0, 22), (2.0, 27), (1.0, 12), (4.0, 17), (5.0, 26), (0.0, 4), (2.0, 43), (2.0, 18), (7.0, 29), (0.0, 7), (3.0, 24), (8.0, 27), (3.0, 7), (4.0, 23), (1.0, 14), (0.0, 9), (5.0, 8), (1.0, 6), (5.0, 15), (1.0, 14), (2.0, 27), (6.0, 33), (1.0, 8), (4.0, 33), (4.0, 19), (1.0, 18), (3.0, 43), (4.0, 11), (1.0, 7), (6.0, 27), (2.0, 9), (12.0, 31), (2.0, 26), (0.0, 13), (3.0, 2), (5.0, 24), (2.0, 13), (10.0, 43), (3.0, 12), (4.0, 40), (6.0, 31), (7.0, 18), (0.0, 7), (2.0, 23), (3.0, 19), (1.0, 13), (4.0, 30), (2.0, 18), (0.0, 27), (2.0, 17), (6.0, 61), (0.0, 9), (0.0, 7), (8.0, 34), (2.0, 17), (4.0, 10), (4.0, 25), (4.0, 7), (0.0, 11), (1.0, 6), (0.0, 9), (3.0, 31), (8.0, 46), (10.0, 50), (5.0, 40), (3.0, 16), (2.0, 18), (0.0, 2), (1.0, 14), (0.0, 4), (7.0, 35), (2.0, 10), (2.0, 23), (2.0, 6), (2.0, 18), (4.0, 17), (2.0, 36), (1.0, 30)]\n",
      "0.1599219892735251\n"
     ]
    }
   ],
   "source": [
    "print(defense_lj_wave(\"new_attack_0\"))"
   ]
  },
  {
   "cell_type": "code",
   "execution_count": null,
   "metadata": {},
   "outputs": [],
   "source": [
    "attack(0.0001, \"/home/rni/.armory/outputs/new_attack_0_0001/saved_samples\")"
   ]
  },
  {
   "cell_type": "code",
   "execution_count": 20,
   "metadata": {},
   "outputs": [
    {
     "name": "stderr",
     "output_type": "stream",
     "text": [
      "/home/rni/deepspeech.pytorch/deepspeech_pytorch/model.py:310: UserWarning: __floordiv__ is deprecated, and its behavior will change in a future version of pytorch. It currently rounds toward 0 (like the 'trunc' function NOT 'floor'). This results in incorrect rounding for negative values. To keep the current behavior, use torch.div(a, b, rounding_mode='trunc'), or for actual floor division, use torch.div(a, b, rounding_mode='floor').\n",
      "  seq_len = ((seq_len + 2 * m.padding[1] - m.dilation[1] * (m.kernel_size[1] - 1) - 1) // m.stride[1] + 1)\n"
     ]
    },
    {
     "name": "stdout",
     "output_type": "stream",
     "text": [
      "0.16479765967820575\n",
      "0.17552413456850316\n"
     ]
    }
   ],
   "source": [
    "print(no_defense(\"new_attack_0_0001\"))\n",
    "print(defense(\"new_attack_0_0001\"))"
   ]
  },
  {
   "cell_type": "code",
   "execution_count": null,
   "metadata": {},
   "outputs": [],
   "source": [
    "attack(0.2, \"/home/rni/.armory/outputs/new_attack_0_2/saved_samples\")"
   ]
  },
  {
   "cell_type": "code",
   "execution_count": 54,
   "metadata": {},
   "outputs": [
    {
     "name": "stdout",
     "output_type": "stream",
     "text": [
      "['I O E O E E E E E E E E E E E E E E E E E E E E E E E E E E E EE E E EE E E E E E E E E E E E E E E E E E E E E E E E E E E E E E E E E E E E E E E E E E E E E E E E E E E E E E E E E E E E E E E E E E E E E E E E E E E  E']\n",
      "['AOR ALOMENT ON THE MATTAM LADA MENA O H E TE O E O TE O O MOIN M N COM LIN N AD M N E MEN TE TE E E IN ING HM N N ON I N  EM EME I O O HM IM N N M  E E O E E I O  E E']\n",
      "['PIPOIN THE IDLE MEMIN ON HO HOND HEM PON MORNING IMPELMENT L ON HME E METE OT OY OCOMNING THE PEROLOR A HOMMO METO PNING THEM IMPERMENTOMEN ON OF THE MITLE N I E O E']\n",
      "['OF THE GLIME COME IN PUINTING IN THE TIPEMENT QUITE YO IN LEMING HEN THE GLTIC ADTEN BE COME N I COMN E MN NT HIM AND COM O O MN M TE OM TE']\n",
      "['O E E  E E E E E E E E E  E E O E E E E E E E E E EE E E E E E E E E E E E E E E E E E E E E E E E E E E  E E E E E E E E E E E E E E E E E E E E E E E E E E E E E  E E E E E E E E E E E E E E E E E E E E E E E EE E E EEEE E E E E E E E E E E EE']\n",
      "['WON THE PULING MOMEN THE NOMETEN PRMALMENT PUELELING ON THE MIMNE ON E MILN OM E E E M IT IN ECOM TO E ME O O E E ON A IL N I I E T E E I O ON IN ']\n",
      "[' ON WOMEN CAN CLIMIN THE PUTTING ONLY WHEN THE COMPLOMENT AND O GOLEMENT ON LOOKING IN TOMIE THM AT MO T BLENICLE O O TE O TE O E T O E T']\n",
      "['WOMHENT MEEMOMENT IMPODND HIM AMONG E THE MEMONIME MOMENO MEMR MENIMEN EM GOING MENTE EGLIMINI O E E IN']\n",
      "['AND THE WO CAN MAKE HIM ITOR E IN HE O IN THE AN']\n",
      "['WON E E E E E E E O E E E E E E E E E E E E  E E E E E  E E E E E E E E    E E E E E E E E E E E E E E E E E E E E E E E E E E E EE O TE E E E  E E E E E E E E E E E E E E EE E EE E E E E E E E E E E E E E E E E E EE E E E EE E  E E E E E E  E  E']\n",
      "[' E E E O E E A E E E E E E E E E E EE E E E E E E O E E E E E E E E E E E E E EE E E E E E E E E E E E E E E E E E E E E E E O EEE E E E E E E E E EE E EE E E E E  E E E E    E O  EE E E E E E E E EE EEEEE E E E E E E E E E E E E E E E  E E E E E E']\n",
      "['AND ANHEN TA COMING HIM TO ED TE PENIMN AN ONITHN HI E E M E A E O E E ONE O AN E I E  E E E E E EN E E E E E E E  E E E E  E E E E E E  E   E E']\n",
      "[' O E E E E E EE EE E E E E E E E E E E E E E E E E EE E E E E EN E E E E ']\n",
      "['THE E E E E E E E E E E E E E E E E E E E E EEE']\n",
      "['AD YT THE EMENT A BAUT INDTO M TO E OM IM HOM E O H WO HE OITDIM EN T DOT IN AN HEMON TE']\n",
      "['AND HOT THE MANIN IN HE OMENT COM BANDHIN HIMON E MEYTIN A MNT OF IM AN HE MITTLE COM ON HEM T E O MAD E IN E T I O E E T I T E I E T ME E T E MENAN']\n",
      "['AND MORE THE MON IM TON A ME T E E O ME MN DAN I OU O E O E E E']\n",
      "['A E E E E TE  E E E E E E E E E E E E E E E E E E E E E E E E E E E E E E E E E E E E E E E E E E E E E E E E E E E E E E E E E E E  E E E E E E E E E E E E E E E E E E E E E E E E E E E E E E E E E E E E  OE E E E E E E E E E E E E E E E E E']\n",
      "['E  O  E']\n",
      "['ANTHE BUT HIM ON THE BRADDHIM IN PRERMENTIED HM NON THE PRMNO O I UE I E']\n",
      "['ON E O O E E E E E E E E E E E E E E E E E E E E E E E E E E E E E E E E E E E E E E E E E E E E E E E E E E EE']\n",
      "['A ON E E I E E E E E E E E O E E E E E EI E E E E E E E E E E E E E E E E E E  E E E  E E E E E E E E E E E E E E E E E E E E E E E E O E E E E']\n",
      "['O  E E E E E E E E E E E E E E E E E E E E E E E E E E E E E E E E E E E E E E E E E EEE E E E E EE E E E E E E E E EE E O E  E E E E']\n",
      "['WOLD O POME HIM A GRIM AN PROMINAL MNUMENT ON THE OLIMENT AMONT HIM AN IMPORDING THE COMPENMEN O MENICTL M N I O N O E T E O I IN O E O IE O IN I ME I N AMIN TE LIM N E MIMN N M N O H N THEOL MAN N H TI I E O I I T I O O E N T O N AN N O IN N T I T E E TE EN']\n",
      "['ON AMENTHIM IN GO NO O E O O E  E O O O E E T O T E E E E E E E E E E E E E E E E E   E E']\n",
      "['ON THEY ON DY ID O ON OF E OMAMBE O M ON N N O O E I E E E E E E E E EN E IN E E E E E E E E E EN E E E E E']\n",
      "['THIN HOENG WHOM TO EMEMBER THE LIM AND OUGUMENT EMINETE HE MAMTE IMIN IN E MOMNAMEMEN ONMON THE MEMENT OF AMIM T MOMNT MOME O OM ANON H O ME O OMEMOTIMICAN ND TEMPLE O M PE E MN A AN O EN O E T IN  I']\n",
      "['WOMEN HAE BENTO THE MI LE ONG WEN E T M DOT ON TE M ENOMEN O M T E E I E E E']\n",
      "['OMO E ELE I EN E A  E  E  E E E E E E E E E E E E E E E E E E E E E E E E E E E E E E E E E E E E E E E E E E  E E E E E E EE E E E E E E E E E E E E E  E  E E  E E E E E E E E E E E E E E E E E E E E E E E E E E E E EE']\n",
      "['A O N N E E E E E E E E E E E E E E E E E E E E E E E E E E E E E E E  E E E E E E E E E E E E EEE E E E E O E E E E E E E E E EE E']\n",
      "['OMABLE O E TE H EMENT OF HOEMIN HIM HE ME OMINE EMO E O ELI MON I IN I IN E MIMEN OF E ORED IN AN HEMINMINT OF ELEMIN ANOMENOONE MIH ET EMO ME O   E E E E E O E EE E E E E E E E E E E EE E E E E E E E E E E E E E E E E E E E E E E E E E']\n",
      "[' NOMING THE BOBIN IN H MUNTO IN COMIN UN LE AND WMEN MEMINE IN THE COM AN METIN TO HOM TO CIME OF INOMEN ANGIN TO OE']\n",
      "['O NEMBERT OF AN EMENT ON THE POLIM EON N E MEM TEM ON AMON H MN T O E O TE I TE OT I O ON HOMEN I NO IN N IM E THE MN TO M EMON E MOL UPON THE OL ON ON ON THE MIE IN O ON E E ME BE MN E O O E O O MO THE U O TE MOMEN E E E E N E E E E O T E E E T E E E']\n",
      "['WIH I NOT QUCOMIN I I FOR THE MONONTRE ON TE OT E O O OE E MOE LE O E O OT IN I OE TE OEA O I IN   E R E E I E E  E E E E E E E E E E   E I E E E E E E E E  E E']\n",
      "['WOMEN THE CALLIN U PORT ON THE LOKIN HLE OMWENT O UPIN THE BOI ENTO IT T NM']\n",
      "['OR GOD GLIMIN A GROUND A UNPROBLE O PUTTING A MOMENT IN AE MORAL AMOMITMENT OF ONLY ONLY MOMING WHEN THE GOROMAN ONNOTA  IMPEMEDONAMAN APOIN O TE GROUND OVER THE CORNODED ON OMENT OF MPOINA ONI M N OMENIN M E O OTIME']\n",
      "[' O HEIE ON O THEPO NA M DO M O THE MEMN TH ONTE EN A L MEM E E E TE O T O AME O E O O T E E E E E E I E E E I E E  E']\n",
      "['WHEN HI IG MIT O MEBER O MID O MO T O E E E E E E E E E  E O E E  E  E E']\n",
      "['ONE OF THE BLOOMEN OF THE IMENE WITH HM NO EMEN U LEOEN TO HELP IMPRIMNABLY ON HER']\n",
      "['AD THE UNCOK EMPOINTMENT OF EINKIN TE E E H IE E E IN HE E E E E E E']\n",
      "['APUT IM AN ONTON O O AN E E I TO I  E EN E  I E E E E E E E E E E E I E E E E E E E   EE E  E E']\n",
      "['WOLD HAM EN COMEPENDN NO N O ONTHN HIM E TEMTOM HOMCN O O MO E ME   I OE O I E I E E E O I EN E E  E E  E E E E E  E E I E E E E E EE']\n",
      "['AR AMLE MIGHT BEO ALL UMONG THE CORT OF ONE OF THER MOMENTHUM ON THE MIMLE AMONTO ALOUNG O OPOINT HIMON AEN HE MANOTMEMENTAMEN OF A MOMENT OF HE MUNT UPON HIM ME CENEMENYMENT OF A MENGLECTING HOME EMOING AMON THE CACKLE HOME AND TAKIN THE MANM M ON E MEM O IN UPON THE OMLEM ON O HE O E E']\n",
      "['ND THE CRIMDAN AND ROUND AND FROME ANCLN TO H MONING CROME ENLEMENT AND HELINGON IWUEDNA INGLING THE HONT EN END LOOKED OUT ON THE HOLE ON THE HO TOF COME TO ONKING HIM IN ONE CMPLIC OMAN N OKOE HEMOAN H O HM TO TINKLING HIM IN OMN ON OMOM HE OM N HONLYMETEIM HIM OER THE OLEN AND THE MENNOT ENE CLAMING FROM THE CONCLE MENTA QUT IN THE COMMICEN E']\n",
      "['O E EE EE E E E E E E E E E E E E E E E E']\n",
      "['TO M OMPLIN O M GOD E E E E E E E E E E E E  E E E E E E E E E E E E E  E E E E E E E E E E E E E E E E E E E E E E E E E E E E E E E E E E E E E E E E E E E E E E E E E E E  E E E  E EE']\n",
      "['E O OE  A IN T E E E E E E E E E E E E E E E E E O EE O E O E E E E E E E E E E E E E E E E E']\n",
      "['WHEN THE COMMININ MEN E M THE MAN ONLY NEMENIE EN AN I E O  E E EN IN E E I IN E E EN A EN O E A E  E ON  E E  E EE']\n",
      "['AON E M TO EOE EN GON HON O M E M MN WO ONE ONIN ONTOINTL IN THE MOMENT GOLING AN TELD HOM THE MONINT M N OLIN O N O O T T T ON HIM N THE MONING PORMANT UOKEN OBLNING ON THE GONEON OIN N H M TH MOMENEN OKENIN HMAN A MINDE O BOMIN HIM IN THE MON OMEN O CEMPOLEMEN COMPLEMO TE O IN O MO IN HM O UMPLE I N HOME OT COMPOMNIN TIL HIM DO N TH ON HOLTING ON TE MO EN E MO TL IN O IN T PON H O N E O I TE TE O E OM I COME IN TO OTHE E']\n",
      "['WA HE ON THE QUON O E O E E E E E E E  E E O E   I  E E   O EN E E  E E E E E E']\n",
      "['BE CUOOLE MANCOME IN OATING HIM HIT TON COM T EN THE PUT ME CONQUINNING IN TOR THE MOR O THAN COTING THAN I INTEMPING HIM IN THEIM']\n",
      "['WN WITH N COM O T ME MOR H HML O O O O ON E IN ONIN OMTL N N WIE NTEM E OE O E  E E E O E E I I O E I E O I EN E E E  E E E E E E E E E E E E E E E E E E E E E E E E E E E E E EEE E E E']\n",
      "['WHE WODMENTO A ANIN MEN EMAT E   E E E E E E E E E E E E E E E E E E E E']\n",
      "['AND ON AN ON QUEONMEN O THE UOLIT ON AN ONNEN N I E NANO AN PRIPIN O N N EMPININ TIO RL RI LIN O GO T PRN R L ON O N E AN T TO I N I EN E E EN E EN E E E IN E E AN I A E IN I IN E IE EN E EN OM HN E AI AN MEDEN HO N   E E IN E O EN E E E E E E I E E E E']\n",
      "['AND HIM E MON E E E E E E E E E E E E E E E E E E E E E E E E E E E E E E E E E E EE E E E E E E E E E E  E E E E E E E E E E EN E E E  E']\n",
      "['AN COMIN E E E E E E HE AN I E E E E E E E  E EE E E E E E E E E E E E E E E E E E E E E']\n",
      "['ABOUT A MOMENT IN THE MEMBE PUBBLE QWIMENT AD A ONIN O ONM TE TO E']\n",
      "['ONO O E E E E E ON E O E E E E E E E E E E E E E E E O E EO O E E E O E I ON E O  O O E  O A E']\n",
      "['AMOMENT AMON THE MENEMOMEMENDOMEN ON THE APLOMENT OF E LIM HEM IMEUPON IM THE INTEMO E UP O A ON ONONTON UPON IN THE E ON E OE']\n",
      "['O ATE NPOTN TEL N O E E O I E O TA O I E O E E E E EE E E E E E E E E E E E E E E E E E E E E E E E E E E E E E E E E E E E E E E E E E E E E E E E E E E E E E E E E  E E E E E E E E E E E E E E E E E E E E E E E E E E E  E E E E E E E E E E E E E E E E E E E E E  E E E E E E E E E E E E E E E E E E E E E E E E']\n",
      "['ON THE GLAMIN HIM IN THE MENOM OF THE MELTIN ABOT A PITLN IM EN HIM T THE MITO M O ME O O E O OE']\n",
      "['A GOTE E E E E E E E E E E E E E E E E E E E E E E E E E E  E E E E E E E E E E E E E E E E E E E E E E E E E E E E E E E E E E E E E E E E E E E E E E E E E E E E E E E E E E E E E E E E E E E E E E E E E E E E  E E']\n",
      "['ON BONG THE MOMENT ON THE MOODON ON THE MOMEN UPON TE POBE AR L MAMOE O MONTHER ONOMEN ON THE OGLONTEMOGI E I E O E O O E E E O O O NE OR ']\n",
      "['NO N E E ED E AN ONDER AN EN O E NO OE E OE E E E E O ON O OT E MIN O MENER N O O E E E E O E T T E I ON HE I  I E A E I I E E E E H E E E E E E E E E']\n",
      "['ON N ICUINTE E ME E TE E E E E  E E E E E E']\n",
      "['WH E E E E I IN TE GRAUN I TO H HOM HM T MAN A MANGE MO TE QOIL WHN THE PO ON O E O I O O T T I T I E N O O TE E E O N TE E I T I E IN H HE IN IN OMAN INLEMN TE N O E TE I MPI E HE TE MNEMEM E A OT THE MTIM U MET E IE']\n",
      "['ON  HOKIN O TE EMCLEPOMEPON THE MOMENT IN QUORPO POENT GONDO ON OPEN OMON THA MOMENT OF ONON THEMEN ONLY E ORDNAT IN TI UCOIN E ATI AN O']\n",
      "['I E E E E EE E EE E E E E  E E E E E E  E E']\n",
      "['WOMAN ONLY THE MOMENT OF OMIN THE WOND MNIO UP OM O THE MINAMONUM ON THE MOMENT O TE ON INM HE MILO WIT IE M O T L N O T O I E M N O MOM EN OMONIN HIM O ENTO N I TE I O O M TO M M T N E NO OM A E NIN IT O A MNDY IM O T IN O E E OR O E MANIN O I O OM ENDE O ANE E I MEN E E']\n",
      "['IN HERLAM MEPO E THE PEOM AM E MTE M N  E O E  E E E E E  E E E E E E E E E E E E E E E E E E  E E E E E E E E E E E EE']\n",
      "['APODDHIN AN A GIVEN AR THE MER OF MEME ON  E  E E E EE E E E E E E E E E E E E E E E E E E E O  E OE E E E E E E EE E E E  E E E E E  E  E  E E']\n",
      "[' OE E E E E E E E E E E E E E E E E E E E E E E E E E E E E E E E E E E E E E E E E E E O E E E E E E E E E E E E']\n",
      "['O E O E EE E E E E E E E E E E E E EE E E E O E E E E E E E E E E EE E E E E E E E E E E EE  EE E E EE E E E E E E E EE E E E E E EE EE E E E E E E E E EE EEO E EE  E E E E E E O E E E E E E E E E E E E E E E EEE E E E E E E E E E E  E E E E E E  E E E E E E E E E E EE E E  E E E E']\n",
      "[' ANKE NO E A N E  E O E I I E E E E E E E E E E E E E E E E E E E E E E E E EE E E EN E E E']\n",
      "['IN EPERATMENTHEUT ON THE KRIND OF AN OMANDHIM OF THE ENEVIMENT ON THE OILING IN OMOTIE']\n",
      "['WHN OME COM O I TE MODIM OF MON TO MOMEN MON OMY THE MOT OF CUNKLNE IN THE MOMEN TE OT OMON ON HO MIN HM IN HE ENT T TE MON HMIN A MOMEN OE IM DE MON THE MOTDOMEM E O E ONO OMET O E L ON ON HIM O TL ONE ON THEMOMO OON A O  ON E O MEMTOM O EN O O OONOMAOA ON OO EIMEN A O O E E E']\n",
      "['QUITLY TO O ING TE COMEN WOMEN O PEPIN HIM AND COMMINIMEN TO HIM IN LIMING LIVLCING HIM IN THE ANLY COUPTMEN OF NOMIN AF CILKWIMEN OU AN CEMEND IN THE GOLNOMENTOMIN H MN AMITL E E IE']\n",
      "['AN TL E I T E O   E E E E E E E E E E  E E E E E E E E E E E E E E E EE']\n",
      "['GO ANO TE GROUND OMALY OBLIMILY AND NON COMN OMLING ON AMONETHE IN THEPORAMON O EHOMIN HE MOMENMENON EMON THE POPING UF HI A MEMN E ME M T T M IN O N MEMEN M PITIN IN A I TA IENE OT IN INI O O EE']\n",
      "['WOT T E E T A E O E COPANDIN HE A E E E E IN E E T  I E A IN HI E E E E']\n",
      "['ON THE OLY BONING TO E O  E E O O O E O I O TE E O E E E E E E E E E E EE E E E E E E E  E']\n",
      "['WI E E E E E E E E E E E E E E E']\n",
      "['WIL OMWN IN H BE I I N E I THIM ON THE OEN EM TE MENT MT O IN THE OME OTHE KENO ITLING TO MA']\n",
      "[' PUT HM AN DO AN TO EGLON UPON HE NOMOND O MON OM IMEN N O MIT LE OUT U HE ON HEMIN O O DOT E HUM E THE O T E E E T E E E O N O E O ON I E IN E O O O E O OR O E O E O O  O O E O O E  T E E O  E I  E E  E E E E  E E E E E E EE E E E E E']\n",
      "['WHT E E EE O E  E E E E E E E E E E E E E E E E E E E E E E E E E E E E E E E E E E E E EE E E E E E E E E E E E E E E E E E E E E E E E E E E E E E  E E E E E E E E E E E E E E E E E E E E E E E E E E E  E E E E E E E  E E E E E E E E E E E']\n",
      "['O E O O AN ON I E E O I O E E  I E E E E E E E  EE E E E E E  O O OE O OT E E   E E E E  E O E O E  E E E E E E E E E E E E E E E O E E E E E E E E  EO EI E E E E E E E E E E E E E E E E E E E E E E E E E E E E E E E  E EN E EO E EE E E E E E E E E E E E E E E E E E E E E E E']\n",
      "[' NO EMEND IN PREMENE O ANCOING HM TO HECOL E E I I E TIN I E E E EIT I E E E E EI E E E E E E E E E E  E E E E  E E E E E E E E E E   E E EI E E E E E E E E E I E E E E E E E E E E  E E E E E E E E E E E E E EE  E E EE E E E E E E EN I E E E']\n",
      "['O HE OPIN U ER OM TR E T I E E E E E E E E E E E E E  E  E E E AN E E E E E E E E E E E E E E  E I E E E']\n",
      "['I TOOK OF HE QUINKLY GREAMIGM EN PRIMTE MOTAN COMPENTE IN HAD AN EMENIN HM M E O TE IM N THE RIMEN COMPANION LOMEN AN OELIN TULD HIM INTO THE ANEAN AN NOT O EN ON EN T COMFOR HM E OT']\n",
      "[' BOIN O TE IN T I MIN IN AN ONON HIM I TE E E EN E']\n",
      "['AN END AMEN AN ER IN THE ANE N E E E I E E E E E I E EE E  E   E E E E E E E E E E E E E E E ']\n",
      "['WEN   E E O E E E E E  E']\n",
      "['AND ME EN Y E E E  E E E E E E E E E E E E E E E E E E E E E E E E E E E E E E E E E E E E E E  E E I  E E E  E E E E E T E  E E E  E E E  E E E I   E T E E A I E E A E E E E E E E E E E E E E E E E E E E E E E E E E E E E E E E  E']\n",
      "['E E E O E E E E E E E E E E EE E E E E']\n",
      "['AN WAT E MPE E E E  E E E E E E E E E E E E ON E I E  E E E IN TE E E E E E  E E I E E E  E  E  E E IN ENIN I E I E  A E A  EN I E E E  E E E E E A E E E E I  E E  E E E I E E E E  E ']\n",
      "['THE PUPLICAMN E O E E E E E E E  O E E E E E E E E E E E']\n",
      "[' E GOTEM AMO TE ALOOIMOMONOG IM O  OFTEMONAMONN MAOE ONO OON OOOR LO E']\n",
      "['WO O E E E E E E E E E E E E E E E E E E E E E E E E E E E E E E E E E E E E E   E E EE']\n",
      "['AND IMPEMENT TA ME E INMEN AND HIMEN AN TNING THE ME E E E I E E  E E E E E E E E E E E E E E E E E E E E E E E E E E E E E E E  E  E E E E E E AN E E E E E E E E E E E I I E E EN E E E  E E E E E E E E E E E E E']\n",
      "['BO E A O E HO OR E E AN CR E E ON I ON THE ROMLING E N E E OE A E E E I E O O E E E I E  E E E E E  E E E E  E E E E E E E E E E E E E E E E E E E E E E E E E E E E EE E']\n",
      "[(110.0, 33), (58.0, 19), (34.0, 12), (33.0, 12), (118.0, 50), (42.0, 17), (32.0, 14), (18.0, 12), (14.0, 2), (115.0, 54), (115.0, 59), (53.0, 22), (34.0, 17), (22.0, 8), (25.0, 8), (45.0, 20), (22.0, 5), (119.0, 43), (6.0, 6), (17.0, 4), (55.0, 21), (70.0, 27), (64.0, 22), (83.0, 27), (38.0, 12), (44.0, 17), (45.0, 26), (25.0, 4), (103.0, 43), (64.0, 18), (80.0, 29), (26.0, 7), (86.0, 24), (59.0, 27), (17.0, 7), (41.0, 23), (45.0, 14), (28.0, 9), (18.0, 8), (21.0, 6), (39.0, 15), (47.0, 14), (59.0, 27), (69.0, 33), (20.0, 8), (87.0, 33), (45.0, 19), (37.0, 18), (111.0, 43), (32.0, 11), (27.0, 7), (78.0, 27), (26.0, 9), (88.0, 31), (64.0, 26), (40.0, 13), (16.0, 2), (43.0, 24), (27.0, 13), (150.0, 43), (27.0, 12), (106.0, 40), (35.0, 31), (63.0, 18), (17.0, 7), (76.0, 23), (28.0, 19), (20.0, 13), (86.0, 30), (48.0, 18), (56.0, 27), (56.0, 17), (131.0, 61), (42.0, 9), (16.0, 7), (77.0, 34), (37.0, 17), (33.0, 10), (47.0, 25), (29.0, 7), (38.0, 11), (16.0, 6), (26.0, 9), (91.0, 31), (117.0, 46), (129.0, 50), (100.0, 40), (47.0, 16), (41.0, 18), (17.0, 2), (38.0, 14), (10.0, 4), (109.0, 35), (19.0, 10), (77.0, 23), (23.0, 6), (18.0, 18), (42.0, 17), (88.0, 36), (74.0, 30)]\n",
      "2.583617747440273\n",
      "2.4578254509995126\n"
     ]
    }
   ],
   "source": [
    "print(no_defense(\"new_attack_0_2\"))\n",
    "print(defense(\"new_attack_0_2\"))"
   ]
  },
  {
   "cell_type": "code",
   "execution_count": null,
   "metadata": {},
   "outputs": [],
   "source": [
    "attack(0.1, \"/home/rni/.armory/outputs/new_attack_0_1/saved_samples\")"
   ]
  },
  {
   "cell_type": "code",
   "execution_count": 62,
   "metadata": {},
   "outputs": [
    {
     "name": "stdout",
     "output_type": "stream",
     "text": [
      "[(88.0, 33), (40.0, 19), (34.0, 12), (20.0, 12), (129.0, 50), (41.0, 17), (26.0, 14), (17.0, 12), (10.0, 2), (119.0, 54), (88.0, 59), (52.0, 22), (25.0, 17), (18.0, 8), (16.0, 8), (35.0, 20), (14.0, 5), (103.0, 43), (20.0, 6), (10.0, 4), (39.0, 21), (68.0, 27), (67.0, 22), (65.0, 27), (32.0, 12), (34.0, 17), (39.0, 26), (26.0, 4), (110.0, 43), (63.0, 18), (62.0, 29), (22.0, 7), (64.0, 24), (43.0, 27), (14.0, 7), (45.0, 23), (39.0, 14), (34.0, 9), (23.0, 8), (19.0, 6), (34.0, 15), (50.0, 14), (60.0, 27), (51.0, 33), (25.0, 8), (73.0, 33), (51.0, 19), (20.0, 18), (69.0, 43), (36.0, 11), (17.0, 7), (49.0, 27), (27.0, 9), (63.0, 31), (54.0, 26), (13.0, 13), (16.0, 2), (40.0, 24), (31.0, 13), (123.0, 43), (23.0, 12), (90.0, 40), (60.0, 31), (37.0, 18), (18.0, 7), (42.0, 23), (41.0, 19), (15.0, 13), (36.0, 30), (54.0, 18), (61.0, 27), (68.0, 17), (172.0, 61), (43.0, 9), (17.0, 7), (87.0, 34), (36.0, 17), (26.0, 10), (54.0, 25), (16.0, 7), (35.0, 11), (13.0, 6), (21.0, 9), (80.0, 31), (59.0, 46), (102.0, 50), (77.0, 40), (26.0, 16), (30.0, 18), (13.0, 2), (34.0, 14), (15.0, 4), (98.0, 35), (15.0, 10), (64.0, 23), (18.0, 6), (46.0, 18), (48.0, 17), (67.0, 36), (67.0, 30)]\n",
      "2.2618235007313507\n",
      "1.9263773768893222\n"
     ]
    }
   ],
   "source": [
    "print(no_defense(\"new_attack_0_1\"))\n",
    "print(defense(\"new_attack_0_1\"))"
   ]
  },
  {
   "cell_type": "code",
   "execution_count": 63,
   "metadata": {},
   "outputs": [
    {
     "name": "stdout",
     "output_type": "stream",
     "text": [
      "[(5.0, 33), (1.0, 19), (0.0, 12), (3.0, 12), (3.0, 50), (1.0, 17), (0.0, 14), (3.0, 12), (1.0, 2), (11.0, 54), (14.0, 59), (4.0, 22), (3.0, 17), (2.0, 8), (0.0, 8), (1.0, 20), (0.0, 5), (4.0, 43), (0.0, 6), (1.0, 4), (2.0, 21), (2.0, 27), (1.0, 22), (1.0, 27), (1.0, 12), (1.0, 17), (4.0, 26), (0.0, 4), (2.0, 43), (0.0, 18), (1.0, 29), (0.0, 7), (1.0, 24), (5.0, 27), (0.0, 7), (3.0, 23), (1.0, 14), (0.0, 9), (4.0, 8), (1.0, 6), (5.0, 15), (0.0, 14), (2.0, 27), (6.0, 33), (1.0, 8), (3.0, 33), (3.0, 19), (0.0, 18), (3.0, 43), (2.0, 11), (0.0, 7), (3.0, 27), (2.0, 9), (11.0, 31), (4.0, 26), (0.0, 13), (1.0, 2), (0.0, 24), (2.0, 13), (2.0, 43), (2.0, 12), (3.0, 40), (1.0, 31), (3.0, 18), (2.0, 7), (2.0, 23), (3.0, 19), (0.0, 13), (3.0, 30), (3.0, 18), (1.0, 27), (0.0, 17), (4.0, 61), (0.0, 9), (1.0, 7), (5.0, 34), (0.0, 17), (3.0, 10), (3.0, 25), (5.0, 7), (0.0, 11), (0.0, 6), (0.0, 9), (2.0, 31), (6.0, 46), (8.0, 50), (3.0, 40), (1.0, 16), (2.0, 18), (0.0, 2), (3.0, 14), (0.0, 4), (3.0, 35), (2.0, 10), (0.0, 23), (0.0, 6), (0.0, 18), (4.0, 17), (1.0, 36), (1.0, 30)]\n",
      "0.10580204778156997\n",
      "0.16235982447586544\n"
     ]
    }
   ],
   "source": [
    "print(no_defense(\"new_attack_0\"))\n",
    "print(defense(\"new_attack_0\"))"
   ]
  },
  {
   "cell_type": "code",
   "execution_count": 65,
   "metadata": {},
   "outputs": [
    {
     "name": "stderr",
     "output_type": "stream",
     "text": [
      "/home/rni/deepspeech.pytorch/deepspeech_pytorch/model.py:310: UserWarning: __floordiv__ is deprecated, and its behavior will change in a future version of pytorch. It currently rounds toward 0 (like the 'trunc' function NOT 'floor'). This results in incorrect rounding for negative values. To keep the current behavior, use torch.div(a, b, rounding_mode='trunc'), or for actual floor division, use torch.div(a, b, rounding_mode='floor').\n",
      "  seq_len = ((seq_len + 2 * m.padding[1] - m.dilation[1] * (m.kernel_size[1] - 1) - 1) // m.stride[1] + 1)\n"
     ]
    },
    {
     "name": "stdout",
     "output_type": "stream",
     "text": [
      "0.14578254509995126\n"
     ]
    }
   ],
   "source": [
    "print(defense_hifi(\"new_attack_0\"))"
   ]
  },
  {
   "cell_type": "code",
   "execution_count": 66,
   "metadata": {},
   "outputs": [
    {
     "name": "stdout",
     "output_type": "stream",
     "text": [
      "0.14822038030229157\n"
     ]
    }
   ],
   "source": [
    "print(defense_hifi(\"new_attack_0_0001\"))"
   ]
  },
  {
   "cell_type": "code",
   "execution_count": 67,
   "metadata": {},
   "outputs": [
    {
     "name": "stdout",
     "output_type": "stream",
     "text": [
      "0.2925402242808386\n"
     ]
    }
   ],
   "source": [
    "print(defense_hifi(\"new_attack_0_001\"))"
   ]
  },
  {
   "cell_type": "code",
   "execution_count": 68,
   "metadata": {},
   "outputs": [
    {
     "name": "stdout",
     "output_type": "stream",
     "text": [
      "0.6474890297415895\n"
     ]
    }
   ],
   "source": [
    "print(defense_hifi(\"new_attack_0_005\"))"
   ]
  },
  {
   "cell_type": "code",
   "execution_count": 69,
   "metadata": {},
   "outputs": [
    {
     "name": "stdout",
     "output_type": "stream",
     "text": [
      "0.8985860555826426\n"
     ]
    }
   ],
   "source": [
    "print(defense_hifi(\"new_attack_0_01\"))"
   ]
  },
  {
   "cell_type": "code",
   "execution_count": 70,
   "metadata": {},
   "outputs": [
    {
     "name": "stdout",
     "output_type": "stream",
     "text": [
      "2.0346172598732326\n"
     ]
    }
   ],
   "source": [
    "print(defense_hifi(\"new_attack_0_1\"))"
   ]
  },
  {
   "cell_type": "code",
   "execution_count": 74,
   "metadata": {},
   "outputs": [
    {
     "name": "stdout",
     "output_type": "stream",
     "text": [
      "2.362262311067772\n"
     ]
    }
   ],
   "source": [
    "print(defense_hifi(\"new_attack_0_2\"))"
   ]
  },
  {
   "cell_type": "code",
   "execution_count": 73,
   "metadata": {},
   "outputs": [
    {
     "name": "stderr",
     "output_type": "stream",
     "text": [
      "/home/rni/deepspeech.pytorch/deepspeech_pytorch/model.py:310: UserWarning: __floordiv__ is deprecated, and its behavior will change in a future version of pytorch. It currently rounds toward 0 (like the 'trunc' function NOT 'floor'). This results in incorrect rounding for negative values. To keep the current behavior, use torch.div(a, b, rounding_mode='trunc'), or for actual floor division, use torch.div(a, b, rounding_mode='floor').\n",
      "  seq_len = ((seq_len + 2 * m.padding[1] - m.dilation[1] * (m.kernel_size[1] - 1) - 1) // m.stride[1] + 1)\n"
     ]
    },
    {
     "name": "stdout",
     "output_type": "stream",
     "text": [
      "1.917601170160897\n"
     ]
    }
   ],
   "source": [
    "print(defense_arc(\"new_attack_0_2\"))"
   ]
  },
  {
   "cell_type": "code",
   "execution_count": 75,
   "metadata": {},
   "outputs": [
    {
     "name": "stdout",
     "output_type": "stream",
     "text": [
      "0.27011214041930764\n"
     ]
    }
   ],
   "source": [
    "print(defense_arc(\"new_attack_0\"))"
   ]
  },
  {
   "cell_type": "code",
   "execution_count": 76,
   "metadata": {},
   "outputs": [
    {
     "name": "stdout",
     "output_type": "stream",
     "text": [
      "0.2749878108239883\n",
      "0.3627498781082399\n",
      "0.6426133593369088\n",
      "0.8459288152120916\n",
      "1.575329107752316\n"
     ]
    }
   ],
   "source": [
    "print(defense_arc(\"new_attack_0_0001\"))\n",
    "print(defense_arc(\"new_attack_0_001\"))\n",
    "print(defense_arc(\"new_attack_0_005\"))\n",
    "print(defense_arc(\"new_attack_0_01\"))\n",
    "print(defense_arc(\"new_attack_0_1\"))"
   ]
  },
  {
   "cell_type": "code",
   "execution_count": null,
   "metadata": {},
   "outputs": [],
   "source": [
    "arctic_slt_parallel_wavegan.v1"
   ]
  },
  {
   "cell_type": "code",
   "execution_count": 51,
   "metadata": {},
   "outputs": [],
   "source": [
    "import pickle\n",
    "with open(\"/home/rni/.armory/outputs/2022-11-08T044459.820965/saved_samples/predictions.pkl\", 'rb') as f:\n",
    "    pred_0_2 = pickle.load(f)"
   ]
  },
  {
   "cell_type": "code",
   "execution_count": 52,
   "metadata": {},
   "outputs": [
    {
     "data": {
      "text/plain": [
       "{0: {'ground truth': array([b\"BRIGHTER THAN EARLY DAWN'S MOST BRILLIANT DYE ARE BLOWN CLEAR BANDS OF COLOR THROUGH THE SKY THAT SWIRL AND SWEEP AND MEET TO BREAK AND FOAM LIKE RAINBOW VEILS UPON A BUBBLE'S DOME\"],\n",
       "        dtype=object),\n",
       "  'predicted': array(['WHATT AND O L DP OAD DOND WOAT I LITE NAT A GOD NO HAONE WHAT OTNAND NOTT ON BAT HAM DE PECEOLDLIK ACA NOT LEOKI ON HANOTETHAN OT PUT OOCPOD A ADAOT ALOT AND IAGLUP AN ANE UT T  NOT LET THAN LIDHRLAN RAL ROUDLY LOOK AT HECLTET HOT OUT  HACADHE LET O  THIMEN OAVT I CHOE OMNAN THEN MODED UNDRAITDTA L AEGAD TAT GETDI HD PE THARE LITTLTLO'],\n",
       "        dtype='<U336')},\n",
       " 1: {'ground truth': array([b'I AM NOT GOOD ENOUGH FOR YOU AND YOU MUST BE KEPT FROM THE CONTAMINATION OF TOO INTIMATE SOCIETY'],\n",
       "        dtype=object),\n",
       "  'predicted': array([''], dtype='<U1')},\n",
       " 2: {'ground truth': array([b\"THERE'S A HEAVY STORM COMING ON I CRIED POINTING TOWARDS THE HORIZON\"],\n",
       "        dtype=object),\n",
       "  'predicted': array([' LORD LIGREDE HAN GLAD WHA NOTMINGLADE OTDTLIKE NON THE HE CD NUK WOTH  DDAN GEDE A MLINIT T HIMT I AMLET'],\n",
       "        dtype='<U105')},\n",
       " 3: {'ground truth': array([b'WHY SHOULD THE MISTRESS OF THE VALES OF HAR UTTER A SIGH'],\n",
       "        dtype=object),\n",
       "  'predicted': array(['LANLITINGE MIDMOND LODDTPIIND LOKAT LINE THE UTRICALLY'],\n",
       "        dtype='<U54')},\n",
       " 4: {'ground truth': array([b'THE AXE STRUCK DEEP INTO THE VERY PITH THE TREE FELL TO THE EARTH WITH A SIGH HE FELT A PANG IT WAS LIKE A SWOON HE COULD NOT THINK OF HAPPINESS FOR HE WAS SORROWFUL AT BEING SEPARATED FROM HIS HOME FROM THE PLACE WHERE HE HAD SPRUNG UP'],\n",
       "        dtype=object),\n",
       "  'predicted': array([''], dtype='<U1')},\n",
       " 5: {'ground truth': array([b'SHE ROSE QUICKLY TO HER FEET WITH AN IMPETUOUS GESTURE THAT MADE HER VISITOR CATCH HER BREATH'],\n",
       "        dtype=object),\n",
       "  'predicted': array([''], dtype='<U1')},\n",
       " 6: {'ground truth': array([b'THIS WAS WHAT DID THE MISCHIEF SO FAR AS THE RUNNING AWAY WAS CONCERNED'],\n",
       "        dtype=object),\n",
       "  'predicted': array(['LITLY LE'], dtype='<U8')},\n",
       " 7: {'ground truth': array([b'UP IN THE SICK ROOM ZORA LAY ON THE LITTLE WHITE BED'],\n",
       "        dtype=object),\n",
       "  'predicted': array(['LL'], dtype='<U2')},\n",
       " 8: {'ground truth': array([b'VERSE TWO'], dtype=object),\n",
       "  'predicted': array(['MLUM HAND LITLEL'], dtype='<U16')},\n",
       " 9: {'ground truth': array([b'P S PRAY SIR EXCUSE ME FOR WRITING TO YOU A SECOND TIME I COULD NOT HELP WRITING PARTLY TO TELL YOU HOW THANKFUL I AM FOR YOUR KINDNESS AND PARTLY TO LET YOU KNOW THAT YOUR ADVICE SHALL NOT BE WASTED HOWEVER SORROWFULLY AND RELUCTANTLY IT MAY BE AT FIRST FOLLOWED C B'],\n",
       "        dtype=object),\n",
       "  'predicted': array([''], dtype='<U1')},\n",
       " 10: {'ground truth': array([b\"THEY LOOK SOMETHING ALIKE YOU KNOW SUGGESTED THE CAPTAIN OF THE GUARDS LOOKING FROM ONE TO THE OTHER DOUBTFULLY AND THEY'RE NEARLY THE SAME SIZE IF YOU STAND THE GOAT ON HIS HIND LEGS THEY'VE BOTH GOT THE SAME STYLE OF WHISKERS AND THEY'RE BOTH OF EM OBSTINATE AND DANGEROUS SO THEY OUGHT TO MAKE A GOOD PATCH SPLENDID\"],\n",
       "        dtype=object),\n",
       "  'predicted': array(['C LEGLY'], dtype='<U7')},\n",
       " 11: {'ground truth': array([b'PUT THESE PLAYTHINGS ALL AWAY QUICK AND CAREFULLY AND WE WILL NOT LET THEM KNOW ANY THING ABOUT YOUR LEAVING THEM OUT'],\n",
       "        dtype=object),\n",
       "  'predicted': array([' T NOTK MT LODED LITTLE LIL'], dtype='<U27')},\n",
       " 12: {'ground truth': array([b\"THERE BEFELL AN ANXIOUS INTERVIEW MISTRESS FITZOOTH ARGUING FOR AND AGAINST THE SQUIRE'S PROJECT IN A BREATH\"],\n",
       "        dtype=object),\n",
       "  'predicted': array(['TT ET MC ALAT INDLMENT CLARLY THERAC GLATDLELY EARTH LIG CONRI'],\n",
       "        dtype='<U62')},\n",
       " 13: {'ground truth': array([b'NOW WHAT HAVE YOU TO SAY CYNTHIA SPRAGUE'], dtype=object),\n",
       "  'predicted': array([''], dtype='<U1')},\n",
       " 14: {'ground truth': array([b'I WAS ABSENT RATHER MORE THAN AN HOUR'], dtype=object),\n",
       "  'predicted': array([''], dtype='<U1')},\n",
       " 15: {'ground truth': array([b'OH IT IS BETTER TO LIVE ON THE SEA AND LET OTHER MEN RAISE YOUR CROPS AND COOK YOUR MEALS'],\n",
       "        dtype=object),\n",
       "  'predicted': array([''], dtype='<U1')},\n",
       " 16: {'ground truth': array([b'THE VARIABILITY OF MULTIPLE PARTS'], dtype=object),\n",
       "  'predicted': array([''], dtype='<U1')},\n",
       " 17: {'ground truth': array([b\"WELL YOU KNOW RADIE WOMEN LIKE WICKED FELLOWS IT IS CONTRAST I SUPPOSE BUT THEY DO AND I'M SURE FROM WHAT BRACTON HAS SAID TO ME I KNOW HIM INTIMATELY THAT DORCAS LIKES HIM AND I CAN'T CONCEIVE WHY THEY ARE NOT MARRIED\"],\n",
       "        dtype=object),\n",
       "  'predicted': array([' KAA'], dtype='<U4')},\n",
       " 18: {'ground truth': array([b\"MISS MILNER'S HEALTH IS NOT GOOD\"], dtype=object),\n",
       "  'predicted': array(['AT IMINELYHIGDLY VU GOLD'], dtype='<U24')},\n",
       " 19: {'ground truth': array([b'THAT INVITATION DECIDED HER'], dtype=object),\n",
       "  'predicted': array(['MAO'], dtype='<U3')},\n",
       " 20: {'ground truth': array([b'EITHER HE CALLS MINISTERS THROUGH THE AGENCY OF MEN OR HE CALLS THEM DIRECTLY AS HE CALLED THE PROPHETS AND APOSTLES'],\n",
       "        dtype=object),\n",
       "  'predicted': array(['LI'], dtype='<U2')},\n",
       " 21: {'ground truth': array([b'IN THE MODERN WELL CONSTRUCTED PLAY HE SIMPLY RINGS UP AN IMAGINARY CONFEDERATE AND TELLS HIM WHAT HE IS GOING TO DO COULD ANYTHING BE MORE NATURAL'],\n",
       "        dtype=object),\n",
       "  'predicted': array(['LAD LOK MELIAIL'], dtype='<U15')},\n",
       " 22: {'ground truth': array([b'IT IS SOLD EVERYWHERE BUT FOR THE LAST THREE WEEKS NOBODY WILL USE ANY SNUFF BUT THAT SOLD AT THE CIVET CAT'],\n",
       "        dtype=object),\n",
       "  'predicted': array([''], dtype='<U1')},\n",
       " 23: {'ground truth': array([b'IN THE DEBATE BETWEEN THE SENIOR SOCIETIES HER DEFENCE OF THE FIFTEENTH AMENDMENT HAD BEEN NOT ONLY A NOTABLE BIT OF REASONING BUT DELIVERED WITH REAL ENTHUSIASM'],\n",
       "        dtype=object),\n",
       "  'predicted': array(['TDLULY MANCO HAD NOT THAT '], dtype='<U26')},\n",
       " 24: {'ground truth': array([b'YES BUT THE MERIDIAN OF THE PALAIS ROYAL IS THE MOST EXACT'],\n",
       "        dtype=object),\n",
       "  'predicted': array([''], dtype='<U1')},\n",
       " 25: {'ground truth': array([b'CONSUMPTION BECOMES A LARGER ELEMENT IN THE STANDARD OF LIVING IN THE CITY THAN IN THE COUNTRY'],\n",
       "        dtype=object),\n",
       "  'predicted': array(['LEMPLY AND OL'], dtype='<U13')},\n",
       " 26: {'ground truth': array([b'BUT IT IS ON OTHER GROUNDS WORTH NOTING THAT THE TERM WASTE IN THE LANGUAGE OF EVERYDAY LIFE IMPLIES DEPRECATION OF WHAT IS CHARACTERIZED AS WASTEFUL'],\n",
       "        dtype=object),\n",
       "  'predicted': array(['T LIN LOKIN CAN NOT ATTL  RATA WWA'], dtype='<U34')},\n",
       " 27: {'ground truth': array([b\"IT'S ALMOST BEYOND CONJECTURE\"], dtype=object),\n",
       "  'predicted': array(['L'], dtype='<U1')},\n",
       " 28: {'ground truth': array([b'THE ENGLISH FORWARDED TO THE FRENCH BASKETS OF FLOWERS OF WHICH THEY HAD MADE A PLENTIFUL PROVISION TO GREET THE ARRIVAL OF THE YOUNG PRINCESS THE FRENCH IN RETURN INVITED THE ENGLISH TO A SUPPER WHICH WAS TO BE GIVEN THE NEXT DAY'],\n",
       "        dtype=object),\n",
       "  'predicted': array([''], dtype='<U1')},\n",
       " 29: {'ground truth': array([b'BY HIS RESURRECTION CHRIST WON THE VICTORY OVER LAW SIN FLESH WORLD DEVIL DEATH HELL AND EVERY EVIL'],\n",
       "        dtype=object),\n",
       "  'predicted': array(['IDLOD LIKET ND H NOD LIKE LANGLTLY GRIMAALTH ONOUD LIT ICPREAMLLYBD GRANDALECE  NLORED AN AGLEATH ANDGRT NRANTNLL OR'],\n",
       "        dtype='<U116')},\n",
       " 30: {'ground truth': array([b\"THE KING'S EARS WERE NOW OPEN TO MONTROSE'S COUNSELS WHO PROPOSED NONE BUT THE BOLDEST AND MOST DARING AGREEABLY TO THE DESPERATE STATE OF THE ROYAL CAUSE IN SCOTLAND\"],\n",
       "        dtype=object),\n",
       "  'predicted': array(['HAT WTAT AVHENNE THE XINMOMONDWHAD HA MO O I DHOTLAT GO TE AT AND OND LATH LOLY CMPTDAD LUNPLER AND I WOUD HIP LE W LODLY O THE MULON LELODED HA GOTLERTLHN COUDAN MUPLEC A ERIGURIALY GDEDMNTH HHD HENED THE HADT  LUTLLE MIDLI PTHEMO THER LIMET AND LAT WHIM HE LOP UTE IN THE OTHER A TH MIMNETGOD WASTHE CLILET  WAT LITTLE'],\n",
       "        dtype='<U320')},\n",
       " 31: {'ground truth': array([b'DID NOT THE DANCING AMUSE YOU NO'], dtype=object),\n",
       "  'predicted': array(['TLO'], dtype='<U3')},\n",
       " 32: {'ground truth': array([b'THE PRINCESS SAT DOWN UNDER A BLUE CANOPY WITH BOUQUETS OF ROSES AND SHE LET ANDERS SIT IN A GOLDEN CHAIR BY HER SIDE'],\n",
       "        dtype=object),\n",
       "  'predicted': array([\"D  KPHATM THA LIDLEN HODAD LINDLE ANRM HP IRDLENDCOUD TESMPHAND ROTE OEK O THIMP WET THE LONDLANDLNHOOD HAT THE COOR  HOAT A LITTLE LETOLNTHARMON PLYTOLACLND LOTT MOO'E EAN THE CLIMMEN ADRIME IN EGRADIY\"],\n",
       "        dtype='<U202')},\n",
       " 33: {'ground truth': array([b'AN ARTICLE MAY BE USEFUL AND WASTEFUL BOTH AND ITS UTILITY TO THE CONSUMER MAY BE MADE UP OF USE AND WASTE IN THE MOST VARYING PROPORTIONS'],\n",
       "        dtype=object),\n",
       "  'predicted': array([' IYK'], dtype='<U4')},\n",
       " 34: {'ground truth': array([b\"HER EYES WANDERED TO THE MAID'S HANDS\"], dtype=object),\n",
       "  'predicted': array([''], dtype='<U1')},\n",
       " 35: {'ground truth': array([b'MAINHALL VOUCHED FOR HER CONSTANCY WITH A LOFTINESS THAT MADE ALEXANDER SMILE EVEN WHILE A KIND OF RAPID EXCITEMENT WAS TINGLING THROUGH HIM'],\n",
       "        dtype=object),\n",
       "  'predicted': array(['T '], dtype='<U2')},\n",
       " 36: {'ground truth': array([b'AND ALL HIS BROTHERS AND SISTERS STOOD ROUND AND LISTENED WITH THEIR MOUTHS OPEN'],\n",
       "        dtype=object),\n",
       "  'predicted': array(['OU'], dtype='<U2')},\n",
       " 37: {'ground truth': array([b'MOTHER CRIED SHE I SEE YOU HERE LOOK LOOK'], dtype=object),\n",
       "  'predicted': array([''], dtype='<U1')},\n",
       " 38: {'ground truth': array([b'MAY WE SEE GATES AT ONCE ASKED KENNETH'], dtype=object),\n",
       "  'predicted': array(['O NOT EMEN CLULNODO'], dtype='<U19')},\n",
       " 39: {'ground truth': array([b\"IT'S TREMENDOUSLY WELL PUT ON TOO\"], dtype=object),\n",
       "  'predicted': array(['GOODL LITTLE GLOODLA GLEVEL'], dtype='<U27')},\n",
       " 40: {'ground truth': array([b'THE HEAD AND CHIEF OF THE RIOT THE NOTTINGHAM APPRENTICE WITH CLENCHED FISTS THREATENED MONTFICHET'],\n",
       "        dtype=object),\n",
       "  'predicted': array([''], dtype='<U1')},\n",
       " 41: {'ground truth': array([b'IN AUTUMN THE WOOD CUTTERS ALWAYS CAME AND FELLED SOME OF THE LARGEST TREES'],\n",
       "        dtype=object),\n",
       "  'predicted': array(['HE'], dtype='<U2')},\n",
       " 42: {'ground truth': array([b'THE SCOUT WHO HAD LEFT DAVID AT THE DOOR TO ASCERTAIN THEY WERE NOT OBSERVED THOUGHT IT PRUDENT TO PRESERVE HIS DISGUISE UNTIL ASSURED OF THEIR PRIVACY'],\n",
       "        dtype=object),\n",
       "  'predicted': array(['NAL GLOGGOHAHEMIYLLY NILA IURE LI WITH GUD'], dtype='<U42')},\n",
       " 43: {'ground truth': array([b\"IN FACT HE HAD JUST FINISHED IT THE LAST OF THE TROUT'S TAIL HAD JUST VANISHED WITH A SPASM DOWN HIS STRAINED GULLET WHEN THE BAFFLED HAWK CAUGHT SIGHT OF HIM AND SWOOPED\"],\n",
       "        dtype=object),\n",
       "  'predicted': array([' GADTT'], dtype='<U6')},\n",
       " 44: {'ground truth': array([b'ALEXANDER UNCLENCHED THE TWO HANDS AT HIS SIDES'], dtype=object),\n",
       "  'predicted': array([''], dtype='<U1')},\n",
       " 45: {'ground truth': array([b'THERE WAS SOMETHING OF SWEETNESS AND FONDNESS IN HER TONES AND MANNER WHICH WAS NEW TO RACHEL AND COMFORTING AND SHE RETURNED THE GREETING AS KINDLY AND FELT MORE LIKE HER FORMER SELF'],\n",
       "        dtype=object),\n",
       "  'predicted': array(['NOT'], dtype='<U3')},\n",
       " 46: {'ground truth': array([b'PAUL ANSWERS THE MAN WHO IS NAMED JESUS CHRIST AND THE SON OF GOD GAVE HIMSELF FOR OUR SINS'],\n",
       "        dtype=object),\n",
       "  'predicted': array(['E LIKC LAD  OD UT U OM HA KNA IM NHOT LE ONE OD GON TEO AANTON I DOGO WAD MO RTER AND LOL IT LON AN HA LON LERK A MOVAR HAND TEDLUDOMAN AT THEMA RAHULAD LRO'],\n",
       "        dtype='<U156')},\n",
       " 47: {'ground truth': array([b'FOR A LONG TIME HE HAD WISHED TO EXPLORE THE BEAUTIFUL LAND OF OZ IN WHICH THEY LIVED'],\n",
       "        dtype=object),\n",
       "  'predicted': array([''], dtype='<U1')},\n",
       " 48: {'ground truth': array([b'IF A ROCK OR A RIVULET OR A BIT OF EARTH HARDER THAN COMMON SEVERED THE LINKS OF THE CLEW THEY FOLLOWED THE TRUE EYE OF THE SCOUT RECOVERED THEM AT A DISTANCE AND SELDOM RENDERED THE DELAY OF A SINGLE MOMENT NECESSARY'],\n",
       "        dtype=object),\n",
       "  'predicted': array(['OI IDAD TINTLEMASE LINBHENY HAD HODLY WARD IN RET THE LINGLEAND WITH HOSHD ETANOTHER MEDRE LOOD WHT HOUPHT D MYMGIN NAMPTHACHA MUCALA LIKE THE LITEMEU HA HOIL TCTLOP T LOD HY THOTLT SSHOTERUO HADNO TLOLAT THE REDLAR DE PUTART HA HOTHER LELVAND THURDOCLIT WICKHM THEND LOOD N AKE NITERLY GADSLYU TELODED HAT TCATE H'],\n",
       "        dtype='<U314')},\n",
       " 49: {'ground truth': array([b'COME FORTH WORM AND THE SILENT VALLEY TO THY PENSIVE QUEEN'],\n",
       "        dtype=object),\n",
       "  'predicted': array([''], dtype='<U1')},\n",
       " 50: {'ground truth': array([b'HEREDITY THE CAUSE OF ALL OUR FAULTS'], dtype=object),\n",
       "  'predicted': array(['PLAY NOTHA QUITTLY LITTLE QUICRIT IK THE RIYAAL I GLOD WITH LOOK'],\n",
       "        dtype='<U64')},\n",
       " 51: {'ground truth': array([b'THE FAIRVIEW BAND WAS ENGAGED TO DISCOURSE AS MUCH HARMONY AS IT COULD PRODUCE AND THE RESOURCES OF THE GREAT HOUSE WERE TAXED TO ENTERTAIN THE GUESTS'],\n",
       "        dtype=object),\n",
       "  'predicted': array(['AAD GOLONT AAL LOPK AT THE ETHERT UT T ATLAT O UND RH WHAT I AT MOT TE OND ILULORD TH PIPRADA TAT HEKINWOURD AD PODQUOINTWAYND HAP HATD OTE WOP AT CUOIRNTLALY HORLETELITELRLARD'],\n",
       "        dtype='<U176')},\n",
       " 52: {'ground truth': array([b'PEARL WAS A BORN OUTCAST OF THE INFANTILE WORLD'], dtype=object),\n",
       "  'predicted': array([''], dtype='<U1')},\n",
       " 53: {'ground truth': array([b'HOSTESS REPLACES LUMP AND INCLINES EMPTY TEAPOT OVER TRAY FOR A MOMENT THEN HANDS HIM A CUP PAINTED BROWN INSIDE THUS DECEIVING THE GENTLEMAN WITH THE TELESCOPE IN THE UPPER CIRCLE'],\n",
       "        dtype=object),\n",
       "  'predicted': array(['OTA LOOKED AND OTH RONE TH CHRENNE T MY GRIND AND GLUDLINND GRETLAD E LGLD MALACTLY IVE NOGUMLYEDG AN TH MONLHACH LOCK A THE CLUCK THAT LOOK LOKL HADLA THAN HAD O HARD UT AT THE MIRNCKLETER  LENREAGND IGLANDICLLY IY UD A LITTLHOT HA DOT'],\n",
       "        dtype='<U236')},\n",
       " 54: {'ground truth': array([b\"OH I AM SPEAKING SERIOUSLY REPLIED MONTALAIS AND MY OPINION IN THIS CASE IS QUITE AS GOOD AS THE KING'S I SUPPOSE IS IT NOT LOUISE\"],\n",
       "        dtype=object),\n",
       "  'predicted': array([''], dtype='<U1')},\n",
       " 55: {'ground truth': array([b\"WE WON'T TALK ABOUT HER ANY MORE IF YOU'D RATHER NOT WE INDEED\"],\n",
       "        dtype=object),\n",
       "  'predicted': array(['NOTMEWT GOUD'], dtype='<U12')},\n",
       " 56: {'ground truth': array([b'FINE GLORIOUS'], dtype=object),\n",
       "  'predicted': array(['EOUNT HON IGLER WOS WITH HE HODRN ORDNLY WARLY LOOK'],\n",
       "        dtype='<U51')},\n",
       " 57: {'ground truth': array([b'THE MOHICAN STARTED ON HIS FEET AND SHOOK HIS SHAGGY COVERING AS THOUGH THE ANIMAL HE COUNTERFEITED WAS ABOUT TO MAKE SOME DESPERATE EFFORT'],\n",
       "        dtype=object),\n",
       "  'predicted': array(['NOT NO  LEA GDLENLLUTRIA WI DROW LODLER AND ACMIOARTMHATHDAD GOUTH'],\n",
       "        dtype='<U66')},\n",
       " 58: {'ground truth': array([b'THE PROOF WAS IN THREE LONG SLIPS I HAD LEFT THEM ALL TOGETHER'],\n",
       "        dtype=object),\n",
       "  'predicted': array([''], dtype='<U1')},\n",
       " 59: {'ground truth': array([b'THE FREE STATE MEN HAD ONLY THEIR CONVICTIONS THEIR INTELLIGENCE THEIR COURAGE AND THE MORAL SUPPORT OF THE NORTH THE CONSPIRACY HAD ITS SECRET COMBINATION THE TERRITORIAL OFFICIALS THE LEGISLATURE THE BOGUS LAWS THE COURTS THE MILITIA OFFICERS THE PRESIDENT AND THE ARMY'],\n",
       "        dtype=object),\n",
       "  'predicted': array([\"PICOL HUDALY THE MODTHER GOND A LOGM TLOK TNAT MOAMONE W THE MIDPT OB AND OD A HEN HORT ADERH GOD A O OO A TA MOTLY DH GO ATLOOK AT THAT MOMAN A MEMEN TROBLT THORDUDTLY GONEDTAED LEINK AT THU OND BAT DODLINGPIPP IN LOOK AN HE MOMEDLA ICH MAT LOD LORNLI NOE AN THE ORD O IMRAD AT ASDTETHR PENDORD ND MOTHA HIS ANCOT AND HET LUGT HAT HA LIO LA LIVAEN ONE HO LOIKT HE LOT AHA GONDLAN NH TOING THE MOST ATO MOK AD LA A THE LIHT AND NOCKED UTHATLEPPMOUDGLAE HE GHA M'ROCKE HOR NOT MID LOOK AT A LADLY LAMAT OND WIT TUTHONR ONTHE LEDLIND OT I TLI\"],\n",
       "        dtype='<U540')},\n",
       " 60: {'ground truth': array([b'THERE STAND SO I SAID AND GLARE AND HISS AT MY FOES'],\n",
       "        dtype=object),\n",
       "  'predicted': array(['ROWN CLE GIHTLYLLACL'], dtype='<U20')},\n",
       " 61: {'ground truth': array([b'TIME ENOUGH HAD HE TOO FOR HIS REFLECTIONS FOR DAYS AND NIGHTS PASSED ON AND NOBODY CAME UP AND WHEN AT LAST SOMEBODY DID COME IT WAS ONLY TO PUT SOME GREAT TRUNKS IN A CORNER OUT OF THE WAY'],\n",
       "        dtype=object),\n",
       "  'predicted': array([''], dtype='<U1')},\n",
       " 62: {'ground truth': array([b\"THE TWO YOUNG MEN WHO WERE BY THIS TIME FULL OF THE ADVENTURE WENT DOWN TO THE WALL STREET OFFICE OF HENRY'S UNCLE AND HAD A TALK WITH THAT WILY OPERATOR\"],\n",
       "        dtype=object),\n",
       "  'predicted': array([''], dtype='<U1')},\n",
       " 63: {'ground truth': array([b'BUT PHILIP IS HONEST AND HE HAS TALENT ENOUGH IF HE WILL STOP SCRIBBLING TO MAKE HIS WAY'],\n",
       "        dtype=object),\n",
       "  'predicted': array([''], dtype='<U1')},\n",
       " 64: {'ground truth': array([b'IT WILL BE NO DISAPPOINTMENT TO ME'], dtype=object),\n",
       "  'predicted': array(['DO NOT GHAT CULD LETROTI HOT  LIT LIKE'], dtype='<U38')},\n",
       " 65: {'ground truth': array([b'JACK HAD BEEN STANDING IN THE FAR CORNER OF THE ROOM TALKING TO EVA AND WAS NOW REDUCED TO SILENCE BY HIS PRAISES'],\n",
       "        dtype=object),\n",
       "  'predicted': array([' NO'], dtype='<U3')},\n",
       " 66: {'ground truth': array([b'AT ONCE THE GOAT GAVE A LEAP ESCAPED FROM THE SOLDIERS AND WITH BOWED HEAD RUSHED UPON THE BOOLOOROO'],\n",
       "        dtype=object),\n",
       "  'predicted': array([''], dtype='<U1')},\n",
       " 67: {'ground truth': array([b'AND THEN THEY BECAME VEXED AND WOULD HAVE SNATCHED YOUR PURSE FROM US'],\n",
       "        dtype=object),\n",
       "  'predicted': array(['THAT'], dtype='<U4')},\n",
       " 68: {'ground truth': array([b'THERE IS NO CLASS AND NO COUNTRY THAT HAS YIELDED SO ABJECTLY BEFORE THE PRESSURE OF PHYSICAL WANT AS TO DENY THEMSELVES ALL GRATIFICATION OF THIS HIGHER OR SPIRITUAL NEED'],\n",
       "        dtype=object),\n",
       "  'predicted': array([''], dtype='<U1')},\n",
       " 69: {'ground truth': array([b\"OH SHE'S ALWAYS AT THE PIANO SAID VAN SHE MUST BE THERE NOW SOMEWHERE AND THEN SOMEBODY LAUGHED\"],\n",
       "        dtype=object),\n",
       "  'predicted': array([''], dtype='<U1')},\n",
       " 70: {'ground truth': array([b'HE COULD HARDLY STAND STILL SO GREAT WAS HIS MENTAL AGITATION AND HE RAN TOWARDS HOLMES WITH TWO EAGER HANDS OUTSTRETCHED THANK HEAVEN THAT YOU HAVE COME'],\n",
       "        dtype=object),\n",
       "  'predicted': array([''], dtype='<U1')},\n",
       " 71: {'ground truth': array([b'ON HUGE SILVER PLATTERS WERE PYRAMIDS OF TARTS AND CAKES AND RED WINE SPARKLED IN GLITTERING DECANTERS'],\n",
       "        dtype=object),\n",
       "  'predicted': array(['OTT LENED LK OLAD THE LODLED LITT ONEAT AT OT ATAT LECT HADLE EN OWHADHOD LIAT LKA OT REDDLY NO LITLN AUTHIMNTATRETTA'],\n",
       "        dtype='<U117')},\n",
       " 72: {'ground truth': array([b'INDEPENDENT OF HER FORTUNE SHE HAS BEAUTY TO CAPTIVATE THE HEART OF ANY MAN AND WITH ALL HER FOLLIES SHE HAS A FRANKNESS IN HER MANNER AN UNAFFECTED WISDOM IN HER THOUGHTS A VIVACITY IN HER CONVERSATION AND WITHAL A SOFTNESS IN HER DEMEANOUR THAT MIGHT ALONE ENGAGE THE AFFECTIONS OF A MAN OF THE NICEST SENTIMENTS AND THE STRONGEST UNDERSTANDING'],\n",
       "        dtype=object),\n",
       "  'predicted': array(['TT LK'], dtype='<U5')},\n",
       " 73: {'ground truth': array([b'FACTS FORM ONE OF THESE AND IDEAS THE OTHER'], dtype=object),\n",
       "  'predicted': array([''], dtype='<U1')},\n",
       " 74: {'ground truth': array([b\"A ROUTE SLIGHTLY LESS DIRECT THAT'S ALL\"], dtype=object),\n",
       "  'predicted': array(['TE LEATLE HART UTHERAND LIATARD LEARNED ICAUDUMDO'], dtype='<U49')},\n",
       " 75: {'ground truth': array([b'OLIVE HAS ANOTHER LOVELY GIFT FOR THE YELLOW HOUSE SAID MOTHER CAREY RISING AND TO CARRY OUT THE NEXT PART OF THE PROGRAMME WE SHALL HAVE TO GO IN PROCESSION UPSTAIRS TO MY BEDROOM'],\n",
       "        dtype=object),\n",
       "  'predicted': array([' EDLY L NIHTLNE'], dtype='<U15')},\n",
       " 76: {'ground truth': array([b'CAN THESE THINGS BE RETURNED DAVID BREATHING MORE FREELY AS THE TRUTH BEGAN TO DAWN UPON HIM'],\n",
       "        dtype=object),\n",
       "  'predicted': array(['GINTANMED MYN LNA HALIVELI HER LEALARLY AMILIALIDIIRLIEMUHETLITHEDLTHOND OF THE CROAD WHE NOTK'],\n",
       "        dtype='<U94')},\n",
       " 77: {'ground truth': array([b'SOCRATES BEGINS THE TIMAEUS WITH A SUMMARY OF THE REPUBLIC'],\n",
       "        dtype=object),\n",
       "  'predicted': array([''], dtype='<U1')},\n",
       " 78: {'ground truth': array([b'THE DOCTOR WHO ATTENDED THE INJURED CREATURE IN THIS CASE WAS SIMPLY TOLD THAT SHE SLIPPED AND FELL DOWN STAIRS AS SHE WAS COMING DOWN'],\n",
       "        dtype=object),\n",
       "  'predicted': array(['LAD'], dtype='<U3')},\n",
       " 79: {'ground truth': array([b'ENTER HAMLET WITH HIS FAVOURITE BOAR HOUND'], dtype=object),\n",
       "  'predicted': array(['N QUICKLY HAD GLEDLY'], dtype='<U20')},\n",
       " 80: {'ground truth': array([b\"SUBSTANTIALLY THIS WAS JACOB'S UNVARNISHED DESCRIPTION OF HIS MASTER AND MISTRESS\"],\n",
       "        dtype=object),\n",
       "  'predicted': array(['TT'], dtype='<U2')},\n",
       " 81: {'ground truth': array([b'OH WELL SIR WHAT ABOUT HIM'], dtype=object),\n",
       "  'predicted': array(['CLOCGARLELECLEAER CLERTH ON THE GARLY LOGUR'], dtype='<U43')},\n",
       " 82: {'ground truth': array([b'THAT WILL BE A QUEER THING TO BE SURE'], dtype=object),\n",
       "  'predicted': array(['B N RECOMAMGAGOD'], dtype='<U16')},\n",
       " 83: {'ground truth': array([b'SHE TAUGHT HER DAUGHTER THEN BY HER OWN AFFECTION FOR IT THAT LOVE FOR A COUNTRY WHERE THEY HAD BOTH BEEN HOSPITABLY RECEIVED AND WHERE A BRILLIANT FUTURE OPENED BEFORE THEM'],\n",
       "        dtype=object),\n",
       "  'predicted': array([''], dtype='<U1')},\n",
       " 84: {'ground truth': array([b'LIKE HIS UNFORTUNATE LITTLE COUSIN THE TEAL HE TOO HAD FELT THE FEAR OF DEATH SMITTEN INTO HIS HEART AND WAS HEADING DESPERATELY FOR THE REFUGE OF SOME DARK OVERHANGING BANK DEEP FRINGED WITH WEEDS WHERE THE DREADFUL EYE OF THE HAWK SHOULD NOT DISCERN HIM'],\n",
       "        dtype=object),\n",
       "  'predicted': array([' I'], dtype='<U2')},\n",
       " 85: {'ground truth': array([b\"THIS COMPULSION LEADS NEMO INTO UGLY CONTRADICTIONS HE'S A FIGHTER FOR FREEDOM YET ALL WHO BOARD HIS SHIP ARE IMPRISONED THERE FOR GOOD HE WORKS TO SAVE LIVES BOTH HUMAN AND ANIMAL YET HE HIMSELF CREATES A HOLOCAUST HE DETESTS IMPERIALISM YET HE LAYS PERSONAL CLAIM TO THE SOUTH POLE\"],\n",
       "        dtype=object),\n",
       "  'predicted': array([''], dtype='<U1')},\n",
       " 86: {'ground truth': array([b'IN THIS WAY THE FETE OF THE WHOLE COURT WAS A FETE ALSO FOR THE MYSTERIOUS INHABITANTS OF THE FOREST FOR CERTAINLY THE DEER IN THE BRAKE THE PHEASANT ON THE BRANCH THE FOX IN ITS HOLE WERE ALL LISTENING'],\n",
       "        dtype=object),\n",
       "  'predicted': array(['EKLCARE WUD'], dtype='<U11')},\n",
       " 87: {'ground truth': array([b\"HIS TONES RANG PLEASANTLY ON WARRENTON'S EARS AND FORTHWITH A GOOD FELLOWSHIP WAS HERALDED BETWEEN THEM\"],\n",
       "        dtype=object),\n",
       "  'predicted': array(['LMAN ALONA THA  HAD ON LIITD GOUT CLERTNONHGOT LAK HT CMAAT AT L'],\n",
       "        dtype='<U64')},\n",
       " 88: {'ground truth': array([b'AS SOON AS THESE DISPOSITIONS WERE MADE THE SCOUT TURNED TO DAVID AND GAVE HIM HIS PARTING INSTRUCTIONS'],\n",
       "        dtype=object),\n",
       "  'predicted': array(['LI'], dtype='<U2')},\n",
       " 89: {'ground truth': array([b'MARIE SIGHED'], dtype=object),\n",
       "  'predicted': array(['ADRIK CLIUE  TH GROUND HAD LET LIE'], dtype='<U34')},\n",
       " 90: {'ground truth': array([b'DID ANYONE KNOW THAT THESE PROOFS WOULD BE THERE NO ONE SAVE THE PRINTER'],\n",
       "        dtype=object),\n",
       "  'predicted': array([''], dtype='<U1')},\n",
       " 91: {'ground truth': array([b'IT IS ANNOYANCE THEN'], dtype=object),\n",
       "  'predicted': array([''], dtype='<U1')},\n",
       " 92: {'ground truth': array([b'FOR THE GREAT BARN DOORS ARE THROWN WIDE OPEN AND MEN ARE BUSY THERE MENDING THE HARNESS UNDER THE SUPERINTENDENCE OF MISTER GOBY THE WHITTAW OTHERWISE SADDLER WHO ENTERTAINS THEM WITH THE LATEST TREDDLESTON GOSSIP'],\n",
       "        dtype=object),\n",
       "  'predicted': array([\"LIGIRD HD O ETLEUTD GOLEIRMLYN AN OTMAN GLAN WTH UTNL ALIMUN GUCUL ATH HEODH'D Y CLID LITD SD I GOTAOOD MAD BEE EM T NOT I GORD APTR BADT MEN  MIDNAD HEPA OLD LO HANE NO NOTD HEM OUPTEDNIN WHEN HADOYTHAND LUP OND ER THE PEPHRNAM MHA ODI DON'T UND OC OTT ES MIDORGHOND HOLD NOT HOT NULY LECURD THOT THETE NOT OND EN LIOK I THOTD THUT WHATD A GOT\"],\n",
       "        dtype='<U344')},\n",
       " 93: {'ground truth': array([b'TAKE HIM OUT THORKEL AND LET HIM TASTE YOUR SWORD'], dtype=object),\n",
       "  'predicted': array([''], dtype='<U1')},\n",
       " 94: {'ground truth': array([b'NOTHING IS MORE LUGUBRIOUS THAN THE CONTEMPLATION THUS IN ITS NUDITY IN THE BROAD LIGHT OF THOUGHT OF THE HORRIBLE SWARMING OF SLANG'],\n",
       "        dtype=object),\n",
       "  'predicted': array([' LIDLER AND TH GLORDE IUNLE LOD LONOAD LOIK YBCK AND LOOKED AN T LUIN  HO IATLY A RT MECGAN WATN OHRANDI ER GK  IP COCDESHUT LOTELY TH CAGOLY CULOGLRAN ONLY EBENILA JO WETHOH LO CAT TO MET THAT LITH'],\n",
       "        dtype='<U198')},\n",
       " 95: {'ground truth': array([b'AND THEN THERE WAS BROAD STREET'], dtype=object),\n",
       "  'predicted': array([' ROOMGLADLD LODLY IE'], dtype='<U20')},\n",
       " 96: {'ground truth': array([b'BUT THE AFFAIR WAS MAGNIFIED AS A CROWNING PROOF THAT THE FREE STATE MEN WERE INSURRECTIONISTS AND OUTLAWS'],\n",
       "        dtype=object),\n",
       "  'predicted': array(['  HAT LY CUL T ECLEVE NOT'], dtype='<U25')},\n",
       " 97: {'ground truth': array([b\"THERE JAP YOU'VE CAUGHT IT LAUGHED PERCY WHILE THE OTHERS SCREAMED AT THE SIGHT OF JASPER'S FACE\"],\n",
       "        dtype=object),\n",
       "  'predicted': array([''], dtype='<U1')},\n",
       " 98: {'ground truth': array([b'IF YOU SHOULD NOT BE A GOOD GIRL BUT SHOULD SHOW SIGNS OF MAKING US ANY TROUBLE I SHALL HAVE TO SEND YOU OUT SOMEWHERE TO THE BACK PART OF THE HOUSE UNTIL WE ARE GONE'],\n",
       "        dtype=object),\n",
       "  'predicted': array(['MEN'], dtype='<U3')},\n",
       " 99: {'ground truth': array([b'I WILL ENDEAVOUR IN MY STATEMENT TO AVOID SUCH TERMS AS WOULD SERVE TO LIMIT THE EVENTS TO ANY PARTICULAR PLACE OR GIVE A CLUE AS TO THE PEOPLE CONCERNED'],\n",
       "        dtype=object),\n",
       "  'predicted': array([''], dtype='<U1')}}"
      ]
     },
     "execution_count": 52,
     "metadata": {},
     "output_type": "execute_result"
    }
   ],
   "source": [
    "pred_0_2"
   ]
  },
  {
   "cell_type": "code",
   "execution_count": 4,
   "metadata": {},
   "outputs": [],
   "source": [
    "imp = ImperceptibleASRPyTorch(ds2, eps=0.01, max_iter_1=100, max_iter_2=25, learning_rate_1=8e-4, learning_rate_2=8e-7, decrease_factor_eps=0.5)"
   ]
  },
  {
   "cell_type": "code",
   "execution_count": null,
   "metadata": {},
   "outputs": [],
   "source": [
    "from scipy.io import wavfile\n",
    "import numpy as np\n",
    "samplerate, data = wavfile.read('/home/rni/.armory/outputs/2022-11-08T050918.786720/saved_samples/36_benign.wav')\n",
    "adv = imp.generate(np.array(np.array([data])), np.array([\"WE WON'T TALK ABOUT HER ANY MORE IF YOU'D RATHER NOT WE INDEED\"]))"
   ]
  },
  {
   "cell_type": "code",
   "execution_count": 8,
   "metadata": {},
   "outputs": [
    {
     "name": "stderr",
     "output_type": "stream",
     "text": [
      "/home/rni/deepspeech.pytorch/deepspeech_pytorch/model.py:310: UserWarning: __floordiv__ is deprecated, and its behavior will change in a future version of pytorch. It currently rounds toward 0 (like the 'trunc' function NOT 'floor'). This results in incorrect rounding for negative values. To keep the current behavior, use torch.div(a, b, rounding_mode='trunc'), or for actual floor division, use torch.div(a, b, rounding_mode='floor').\n",
      "  seq_len = ((seq_len + 2 * m.padding[1] - m.dilation[1] * (m.kernel_size[1] - 1) - 1) // m.stride[1] + 1)\n"
     ]
    },
    {
     "name": "stdout",
     "output_type": "stream",
     "text": [
      "[\"WE WON'T TALK ABOUT HER ANY MORE IF YOU'D RATHER NOT WE INDEED\"]\n",
      "[\"AND ALL HIS BROTHERS AND SISTERS STOOD ROUND AND LISTENED WITH THEIR MOUTH'S OPEN\"]\n"
     ]
    }
   ],
   "source": [
    "print(ds2.predict(x = adv, batch_size= 1))\n",
    "print(ds2.predict(x = np.array([data]), batch_size= 1))"
   ]
  },
  {
   "cell_type": "code",
   "execution_count": 135,
   "metadata": {},
   "outputs": [
    {
     "data": {
      "text/plain": [
       "b'AND ALL HIS BROTHERS AND SISTERS STOOD ROUND AND LISTENED WITH THEIR MOUTHS OPEN'"
      ]
     },
     "execution_count": 135,
     "metadata": {},
     "output_type": "execute_result"
    }
   ],
   "source": [
    "strings[36]"
   ]
  },
  {
   "cell_type": "code",
   "execution_count": 141,
   "metadata": {},
   "outputs": [
    {
     "data": {
      "text/plain": [
       "b\"WE WON'T TALK ABOUT HER ANY MORE IF YOU'D RATHER NOT WE INDEED\""
      ]
     },
     "execution_count": 141,
     "metadata": {},
     "output_type": "execute_result"
    }
   ],
   "source": [
    "strings[55]"
   ]
  },
  {
   "cell_type": "code",
   "execution_count": 9,
   "metadata": {},
   "outputs": [],
   "source": [
    "wavfile.write(\"targeted.wav\", samplerate, adv.T)"
   ]
  },
  {
   "cell_type": "code",
   "execution_count": 77,
   "metadata": {},
   "outputs": [],
   "source": [
    "import numpy as np\n",
    "import matplotlib.pyplot as plt\n",
    "\n",
    "import librosa\n",
    "import librosa.display"
   ]
  },
  {
   "cell_type": "code",
   "execution_count": 118,
   "metadata": {},
   "outputs": [],
   "source": [
    "gen_y, sr = librosa.load(\"/home/rni/.armory/outputs/new_attack_0_001/reconstructed_low_sampled/1_adversarial_gen.wav\")"
   ]
  },
  {
   "cell_type": "code",
   "execution_count": 119,
   "metadata": {},
   "outputs": [],
   "source": [
    "adv_y, sr = librosa.load(\"/home/rni/.armory/outputs/new_attack_0_001/saved_samples/1_adversarial.wav\")"
   ]
  },
  {
   "cell_type": "code",
   "execution_count": 120,
   "metadata": {},
   "outputs": [],
   "source": [
    "y = adv_y - gen_y[:143766]"
   ]
  },
  {
   "cell_type": "code",
   "execution_count": 121,
   "metadata": {},
   "outputs": [
    {
     "data": {
      "text/plain": [
       "array([0.00175731, 0.0017928 , 0.00039347, ..., 0.00059287, 0.00134018,\n",
       "       0.00188768], dtype=float32)"
      ]
     },
     "execution_count": 121,
     "metadata": {},
     "output_type": "execute_result"
    }
   ],
   "source": [
    "y"
   ]
  },
  {
   "cell_type": "code",
   "execution_count": 138,
   "metadata": {},
   "outputs": [],
   "source": [
    "y, sr = librosa.load(\"/home/rni/.armory/outputs/new_attack_0_01/reconstructed_low_sampled/1_adversarial_gen.wav\")"
   ]
  },
  {
   "cell_type": "code",
   "execution_count": 139,
   "metadata": {},
   "outputs": [],
   "source": [
    "adv_y, sr = librosa.load(\"/home/rni/.armory/outputs/new_attack_0_01/saved_samples/1_adversarial.wav\")"
   ]
  },
  {
   "cell_type": "code",
   "execution_count": 140,
   "metadata": {},
   "outputs": [
    {
     "data": {
      "text/plain": [
       "(array([-0.0016499 , -0.0091753 , -0.00927687, ..., -0.00624545,\n",
       "         0.00013948,  0.00585343], dtype=float32),\n",
       " array([-0.01224005, -0.01573675, -0.01142786, ...,  0.00808989,\n",
       "         0.00590313,  0.        ], dtype=float32))"
      ]
     },
     "execution_count": 140,
     "metadata": {},
     "output_type": "execute_result"
    }
   ],
   "source": [
    "adv_y, y"
   ]
  },
  {
   "cell_type": "code",
   "execution_count": 146,
   "metadata": {},
   "outputs": [],
   "source": [
    "D = librosa.stft(y)  # STFT of y\n",
    "S_db = librosa.amplitude_to_db(np.abs(D), ref=np.max)"
   ]
  },
  {
   "cell_type": "code",
   "execution_count": 147,
   "metadata": {},
   "outputs": [],
   "source": [
    "D_adv = librosa.stft(adv_y)  # STFT of y\n",
    "S_db_adv = librosa.amplitude_to_db(np.abs(D_adv), ref=np.max)"
   ]
  },
  {
   "cell_type": "code",
   "execution_count": 149,
   "metadata": {},
   "outputs": [],
   "source": [
    "S_db = S_db_adv - S_db[:,:281]"
   ]
  },
  {
   "cell_type": "code",
   "execution_count": 150,
   "metadata": {},
   "outputs": [
    {
     "data": {
      "text/plain": [
       "179856.05"
      ]
     },
     "execution_count": 150,
     "metadata": {},
     "output_type": "execute_result"
    }
   ],
   "source": [
    "np.sum(S_db)"
   ]
  },
  {
   "cell_type": "code",
   "execution_count": 151,
   "metadata": {},
   "outputs": [
    {
     "data": {
      "text/plain": [
       "<matplotlib.colorbar.Colorbar at 0x7f93ccb66aa0>"
      ]
     },
     "execution_count": 151,
     "metadata": {},
     "output_type": "execute_result"
    }
   ],
   "source": [
    "fig, ax = plt.subplots()\n",
    "img = librosa.display.specshow(S_db, ax=ax)\n",
    "fig.colorbar(img, ax=ax)"
   ]
  },
  {
   "cell_type": "code",
   "execution_count": null,
   "metadata": {},
   "outputs": [],
   "source": [
    "fig.savefig(\"diff_0_01.png\")"
   ]
  },
  {
   "cell_type": "code",
   "execution_count": null,
   "metadata": {},
   "outputs": [],
   "source": []
  }
 ],
 "metadata": {
  "kernelspec": {
   "display_name": "Python 3.10.8",
   "language": "python",
   "name": "python3"
  },
  "language_info": {
   "codemirror_mode": {
    "name": "ipython",
    "version": 3
   },
   "file_extension": ".py",
   "mimetype": "text/x-python",
   "name": "python",
   "nbconvert_exporter": "python",
   "pygments_lexer": "ipython3",
   "version": "3.10.8"
  },
  "orig_nbformat": 4,
  "vscode": {
   "interpreter": {
    "hash": "f42adc9e40d25111417e42bd551e1c22ef0dbf31b190e9931ea2086457d4cfa7"
   }
  }
 },
 "nbformat": 4,
 "nbformat_minor": 2
}
